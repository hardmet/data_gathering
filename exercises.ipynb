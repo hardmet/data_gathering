{
 "cells": [
  {
   "cell_type": "markdown",
   "metadata": {
    "deletable": true,
    "editable": true
   },
   "source": [
    "## Numpy"
   ]
  },
  {
   "cell_type": "markdown",
   "metadata": {
    "deletable": true,
    "editable": true
   },
   "source": [
    "Импортировать NumPy под именем np"
   ]
  },
  {
   "cell_type": "code",
   "execution_count": null,
   "metadata": {
    "collapsed": true,
    "deletable": true,
    "editable": true
   },
   "outputs": [],
   "source": [
    "import numpy as np"
   ]
  },
  {
   "cell_type": "markdown",
   "metadata": {
    "deletable": true,
    "editable": true
   },
   "source": [
    "Создать вектор (одномерный массив) размера 10, заполненный нулями"
   ]
  },
  {
   "cell_type": "code",
   "execution_count": 5,
   "metadata": {
    "collapsed": true,
    "deletable": true,
    "editable": true
   },
   "outputs": [
    {
     "name": "stdout",
     "output_type": "stream",
     "text": [
      "[[ 0.  0.  0.  0.  0.  0.  0.  0.  0.  0.]]\n"
     ]
    }
   ],
   "source": [
    "a = np.zeros((1, 10))\n",
    "print(a)"
   ]
  },
  {
   "cell_type": "markdown",
   "metadata": {
    "deletable": true,
    "editable": true
   },
   "source": [
    "Создать вектор размера 10, заполненный единицами"
   ]
  },
  {
   "cell_type": "code",
   "execution_count": 6,
   "metadata": {
    "collapsed": true,
    "deletable": true,
    "editable": true
   },
   "outputs": [
    {
     "name": "stdout",
     "output_type": "stream",
     "text": [
      "[[ 1.  1.  1.  1.  1.  1.  1.  1.  1.  1.]]\n"
     ]
    }
   ],
   "source": [
    "a = np.ones((1, 10))\n",
    "print(a)"
   ]
  },
  {
   "cell_type": "markdown",
   "metadata": {
    "deletable": true,
    "editable": true
   },
   "source": [
    "Создать вектор размера 10, заполненный числом 2.5"
   ]
  },
  {
   "cell_type": "code",
   "execution_count": 7,
   "metadata": {
    "collapsed": true,
    "deletable": true,
    "editable": true
   },
   "outputs": [
    {
     "name": "stdout",
     "output_type": "stream",
     "text": [
      "[[ 2.5  2.5  2.5  2.5  2.5  2.5  2.5  2.5  2.5  2.5]]\n"
     ]
    }
   ],
   "source": [
    "a = np.full((1, 10), 2.5, dtype=float)\n",
    "print(a)"
   ]
  },
  {
   "cell_type": "markdown",
   "metadata": {
    "deletable": true,
    "editable": true
   },
   "source": [
    "Создать вектор размера 10, заполненный нулями, но пятый элемент равен 1"
   ]
  },
  {
   "cell_type": "code",
   "execution_count": 3,
   "metadata": {
    "collapsed": true,
    "deletable": true,
    "editable": true
   },
   "outputs": [
    {
     "name": "stdout",
     "output_type": "stream",
     "text": [
      "[[ 0.  0.  0.  0.  0.  1.  0.  0.  0.  0.]]\n"
     ]
    }
   ],
   "source": [
    "a = np.zeros((1, 10))\n",
    "a[0][5] = 1\n",
    "print(a)"
   ]
  },
  {
   "cell_type": "markdown",
   "metadata": {
    "deletable": true,
    "editable": true
   },
   "source": [
    "Развернуть вектор (первый становится последним)"
   ]
  },
  {
   "cell_type": "code",
   "execution_count": 9,
   "metadata": {
    "collapsed": true,
    "deletable": true,
    "editable": true
   },
   "outputs": [
    {
     "name": "stdout",
     "output_type": "stream",
     "text": [
      "[0 1 2 3 4 5 6 7 8 9]\n[9 8 7 6 5 4 3 2 1 0]\n"
     ]
    }
   ],
   "source": [
    "a = np.arange(10)\n",
    "print(a)\n",
    "print(a[::-1])"
   ]
  },
  {
   "cell_type": "markdown",
   "metadata": {
    "deletable": true,
    "editable": true
   },
   "source": [
    "Создать матрицу (двумерный массив) 3x3 со значениями от 0 до 8"
   ]
  },
  {
   "cell_type": "code",
   "execution_count": 10,
   "metadata": {
    "collapsed": true,
    "deletable": true,
    "editable": true
   },
   "outputs": [
    {
     "name": "stdout",
     "output_type": "stream",
     "text": [
      "[[0 1 2]\n [3 4 5]\n [6 7 8]]\n"
     ]
    }
   ],
   "source": [
    "a = np.arange(9).reshape(3, 3)\n",
    "print(a)"
   ]
  },
  {
   "cell_type": "markdown",
   "metadata": {
    "deletable": true,
    "editable": true
   },
   "source": [
    "Найти индексы ненулевых элементов в [1,2,0,0,4,0]"
   ]
  },
  {
   "cell_type": "code",
   "execution_count": 12,
   "metadata": {
    "collapsed": true,
    "deletable": true,
    "editable": true
   },
   "outputs": [
    {
     "name": "stdout",
     "output_type": "stream",
     "text": [
      "(array([0, 1, 4]),)\n"
     ]
    }
   ],
   "source": [
    "a = np.array([1, 2, 0, 0, 4, 0])\n",
    "print(np.nonzero(a))"
   ]
  },
  {
   "cell_type": "markdown",
   "metadata": {
    "deletable": true,
    "editable": true
   },
   "source": [
    "Создать 3x3 единичную матрицу"
   ]
  },
  {
   "cell_type": "code",
   "execution_count": 13,
   "metadata": {
    "collapsed": true,
    "deletable": true,
    "editable": true
   },
   "outputs": [
    {
     "name": "stdout",
     "output_type": "stream",
     "text": [
      "[[ 0.  0.  0.  0.  0.  0.  0.  0.  0.]\n [ 0.  0.  0.  0.  0.  0.  0.  0.  0.]\n [ 0.  0.  0.  0.  0.  0.  0.  0.  0.]]\n"
     ]
    }
   ],
   "source": [
    "a = np.zeros((3, 9))\n",
    "print(a)"
   ]
  },
  {
   "cell_type": "markdown",
   "metadata": {
    "deletable": true,
    "editable": true
   },
   "source": [
    "Создать массив 3x3x3 со случайными значениями"
   ]
  },
  {
   "cell_type": "code",
   "execution_count": 14,
   "metadata": {
    "collapsed": true,
    "deletable": true,
    "editable": true
   },
   "outputs": [
    {
     "name": "stdout",
     "output_type": "stream",
     "text": [
      "[[[ 0.87283602  0.42109275  0.57433051]\n  [ 0.73853605  0.56288155  0.07565394]\n  [ 0.58947189  0.51900692  0.84270836]]\n\n [[ 0.27617211  0.48963498  0.30295271]\n  [ 0.14551452  0.75968599  0.91789124]\n  [ 0.95127445  0.7831737   0.57760502]]\n\n [[ 0.48068125  0.89426391  0.41636285]\n  [ 0.05425686  0.02636305  0.4902538 ]\n  [ 0.0832907   0.02563887  0.29572431]]]\n"
     ]
    }
   ],
   "source": [
    "a = np.random.rand(3, 3, 3)\n",
    "print(a)"
   ]
  },
  {
   "cell_type": "markdown",
   "metadata": {
    "deletable": true,
    "editable": true
   },
   "source": [
    "Создать случайный вектор размера 30 и найти среднее значение всех элементов"
   ]
  },
  {
   "cell_type": "code",
   "execution_count": 16,
   "metadata": {
    "collapsed": true,
    "deletable": true,
    "editable": true
   },
   "outputs": [
    {
     "name": "stdout",
     "output_type": "stream",
     "text": [
      "[[ 0.30552721  0.48914847  0.92773522  0.91369698  0.67295923  0.24436749\n   0.45823916  0.44979867  0.0254749   0.16432509  0.75156683  0.18673971\n   0.25417961  0.18223197  0.87156909  0.8014803   0.19988774  0.41935008\n   0.30848916  0.4804537   0.99370635  0.93484371  0.62498995  0.45545434\n   0.38752885  0.84539647  0.60611554  0.73355852  0.47728382  0.2395661 ]]\n0.513522142444\n"
     ]
    }
   ],
   "source": [
    "a = np.random.rand(1,30)\n",
    "print(a)\n",
    "print(np.average(a))"
   ]
  },
  {
   "cell_type": "markdown",
   "metadata": {
    "deletable": true,
    "editable": true
   },
   "source": [
    "Перемножить матрицы 5x3 и 3x2"
   ]
  },
  {
   "cell_type": "code",
   "execution_count": 18,
   "metadata": {
    "collapsed": true,
    "deletable": true,
    "editable": true
   },
   "outputs": [
    {
     "name": "stdout",
     "output_type": "stream",
     "text": [
      "[[ 0.89791474  0.96000798  0.33690812]\n [ 0.41233993  0.71709604  0.74611926]\n [ 0.65533603  0.72322381  0.56714113]\n [ 0.37544263  0.41609465  0.10360136]\n [ 0.13038859  0.45430697  0.0918051 ]]\n[[ 0.13286862  0.54183146]\n [ 0.8610713   0.00722856]\n [ 0.08621172  0.82052985]]\n[[ 0.97498544  0.76990111]\n [ 0.73658208  0.84081544]\n [ 0.75871507  0.82566577]\n [ 0.41710336  0.29144241]\n [ 0.41642992  0.14926146]]\n"
     ]
    }
   ],
   "source": [
    "a = np.random.rand(5,3)\n",
    "b = np.random.rand(3,2)\n",
    "print(a)\n",
    "print(b)\n",
    "print(np.dot(a, b))"
   ]
  },
  {
   "cell_type": "markdown",
   "metadata": {
    "deletable": true,
    "editable": true
   },
   "source": [
    "Создать вектор размера 10 со значениями от 0 до 1, не включая ни то, ни другое"
   ]
  },
  {
   "cell_type": "code",
   "execution_count": 19,
   "metadata": {
    "collapsed": false,
    "deletable": true,
    "editable": true
   },
   "outputs": [
    {
     "name": "stdout",
     "output_type": "stream",
     "text": [
      "[ 0.1   0.19  0.28  0.37  0.46  0.55  0.64  0.73  0.82  0.91]\n"
     ]
    }
   ],
   "source": [
    "a = np.arange(0.1, 1, 0.09)\n",
    "print(a)"
   ]
  },
  {
   "cell_type": "markdown",
   "metadata": {
    "deletable": true,
    "editable": true
   },
   "source": [
    "Заменить максимальный элемент на ноль"
   ]
  },
  {
   "cell_type": "code",
   "execution_count": 21,
   "metadata": {
    "collapsed": true,
    "deletable": true,
    "editable": true
   },
   "outputs": [
    {
     "name": "stdout",
     "output_type": "stream",
     "text": [
      "[1 2 0 7 3 4]\n"
     ]
    }
   ],
   "source": [
    "a = np.array([1, 2, 12, 7, 3, 4])\n",
    "a[np.argmax(a)] = 0\n",
    "print(a)"
   ]
  },
  {
   "cell_type": "markdown",
   "metadata": {
    "deletable": true,
    "editable": true
   },
   "source": [
    "Преобразовать массив из float в int"
   ]
  },
  {
   "cell_type": "code",
   "execution_count": 24,
   "metadata": {
    "collapsed": true,
    "deletable": true,
    "editable": true
   },
   "outputs": [
    {
     "name": "stdout",
     "output_type": "stream",
     "text": [
      "[ 1  2 12  7  3  4]\n"
     ]
    }
   ],
   "source": [
    "a = np.array([1.2, 2.3, 12.8, 7.0, 3.2, 4.2])\n",
    "a = a.astype(int)\n",
    "print(a)"
   ]
  },
  {
   "cell_type": "markdown",
   "metadata": {
    "deletable": true,
    "editable": true
   },
   "source": [
    "Дан массив (10,2) координат, найти расстояние от каждой точки до каждой"
   ]
  },
  {
   "cell_type": "code",
   "execution_count": 32,
   "metadata": {
    "collapsed": true,
    "deletable": true,
    "editable": true
   },
   "outputs": [
    {
     "name": "stdout",
     "output_type": "stream",
     "text": [
      "[[ 0.          0.21119052  0.64088537  0.25480442  0.44012379  0.63905829\n   0.69384228  0.40683502  0.84457107  0.17317558]\n [ 0.21119052  0.          0.52261699  0.3442686   0.5494622   0.6751576\n   0.53616859  0.39093566  0.65746858  0.10192988]\n [ 0.64088537  0.52261699  0.          0.50332689  0.58507765  0.46816726\n   0.15104475  0.30926397  0.36328973  0.48054464]\n [ 0.25480442  0.3442686   0.50332689  0.          0.20543078  0.38538524\n   0.60473328  0.20355016  0.79745206  0.24340865]\n [ 0.44012379  0.5494622   0.58507765  0.20543078  0.          0.26743595\n   0.71540291  0.28776454  0.92408378  0.4481457 ]\n [ 0.63905829  0.6751576   0.46816726  0.38538524  0.26743595  0.\n   0.61827338  0.2924441   0.83145606  0.57825138]\n [ 0.69384228  0.53616859  0.15104475  0.60473328  0.71540291  0.61827338\n   0.          0.42957318  0.21426003  0.5223278 ]\n [ 0.40683502  0.39093566  0.30926397  0.20355016  0.28776454  0.2924441\n   0.42957318  0.          0.63650769  0.30102628]\n [ 0.84457107  0.65746858  0.36328973  0.79745206  0.92408378  0.83145606\n   0.21426003  0.63650769  0.          0.67207631]\n [ 0.17317558  0.10192988  0.48054464  0.24340865  0.4481457   0.57825138\n   0.5223278   0.30102628  0.67207631  0.        ]]\n"
     ]
    }
   ],
   "source": [
    "from scipy.spatial import distance\n",
    "a = np.random.rand(10,2)\n",
    "d = distance.cdist(a, a, 'euclidean')\n",
    "print(d)"
   ]
  },
  {
   "cell_type": "markdown",
   "metadata": {
    "deletable": true,
    "editable": true
   },
   "source": [
    "Случайно расположить p элементов в 2D массив"
   ]
  },
  {
   "cell_type": "code",
   "execution_count": 35,
   "metadata": {
    "collapsed": true,
    "deletable": true,
    "editable": true
   },
   "outputs": [
    {
     "name": "stdout",
     "output_type": "stream",
     "text": [
      "[[ 0.  0.  0.  0.  0.  0.  0.  0.  0.  0.]\n [ 0.  0.  0.  0.  0.  0.  0.  0.  0.  0.]\n [ 0.  0.  0.  0.  0.  0.  0.  0.  0.  0.]\n [ 0.  0.  0.  0.  0.  0.  0.  0.  0.  0.]\n [ 0.  0.  0.  0.  0.  0.  0.  0.  0.  0.]\n [ 0.  0.  0.  0.  0.  0.  0.  0.  0.  0.]\n [ 0.  0.  0.  0.  0.  0.  0.  0.  0.  0.]\n [ 0.  0.  0.  0.  0.  0.  0.  0.  0.  0.]\n [ 0.  0.  0.  0.  0.  0.  0.  0.  0.  0.]\n [ 0.  0.  0.  0.  0.  0.  0.  0.  0.  0.]]\n[[ 0.  0.  0.  0.  0.  0.  0.  0.  0.  0.]\n [ 0.  0.  0.  0.  0.  0.  0.  0.  0.  0.]\n [ 0.  0.  0.  0.  0.  0.  0.  0.  0.  1.]\n [ 0.  0.  0.  0.  0.  0.  0.  0.  0.  0.]\n [ 0.  0.  0.  0.  0.  0.  0.  0.  0.  0.]\n [ 0.  0.  0.  0.  0.  0.  0.  0.  0.  0.]\n [ 0.  1.  0.  0.  0.  0.  0.  0.  0.  0.]\n [ 0.  0.  0.  0.  0.  0.  0.  0.  0.  0.]\n [ 0.  0.  0.  0.  0.  0.  0.  1.  0.  0.]\n [ 0.  0.  0.  0.  0.  0.  0.  0.  0.  0.]]\n"
     ]
    }
   ],
   "source": [
    "n = 10\n",
    "p = 3\n",
    "a = np.zeros((n,n))\n",
    "print(a)\n",
    "np.put(a, np.random.choice(range(n*n), p, replace=False), 1)\n",
    "print(a)"
   ]
  },
  {
   "cell_type": "markdown",
   "metadata": {
    "deletable": true,
    "editable": true
   },
   "source": [
    "Дан вектор [1, 2, 3, 4, 5], построить новый вектор с тремя нулями между каждым значением"
   ]
  },
  {
   "cell_type": "code",
   "execution_count": 48,
   "metadata": {
    "collapsed": true,
    "deletable": true,
    "editable": true
   },
   "outputs": [
    {
     "name": "stdout",
     "output_type": "stream",
     "text": [
      "[1 2 3 4 5]\n[ 1.  0.  0.  0.  2.  0.  0.  0.  3.  0.  0.  0.  4.  0.  0.  0.  5.]\n"
     ]
    }
   ],
   "source": [
    "a = np.arange(1, 6)\n",
    "print(a)\n",
    "zeros = 3\n",
    "result = np.zeros(len(a) + (len(a) - 1) * zeros)\n",
    "result[::zeros + 1] = a\n",
    "print(result)"
   ]
  },
  {
   "cell_type": "markdown",
   "metadata": {
    "deletable": true,
    "editable": true
   },
   "source": [
    "Найти наиболее частое значение в массиве"
   ]
  },
  {
   "cell_type": "code",
   "execution_count": 52,
   "metadata": {
    "collapsed": true,
    "deletable": true,
    "editable": true
   },
   "outputs": [
    {
     "name": "stdout",
     "output_type": "stream",
     "text": [
      "1\n"
     ]
    }
   ],
   "source": [
    "a = np.array([1,2,3,1,2,1,1,1,3,2,2,1])\n",
    "counts = np.bincount(a)\n",
    "print(np.argmax(counts))"
   ]
  },
  {
   "cell_type": "markdown",
   "metadata": {
    "deletable": true,
    "editable": true
   },
   "source": [
    "Найти n наибольших значений в массиве"
   ]
  },
  {
   "cell_type": "code",
   "execution_count": 64,
   "metadata": {
    "collapsed": true,
    "deletable": true,
    "editable": true
   },
   "outputs": [
    {
     "name": "stdout",
     "output_type": "stream",
     "text": [
      "[8 7 4 9 0]\n"
     ]
    }
   ],
   "source": [
    "n = 5\n",
    "a = np.array([4,2,3,1,4,1,1,4,3,4,2,1])\n",
    "print(np.argpartition(a, -n)[-n:])"
   ]
  },
  {
   "cell_type": "markdown",
   "metadata": {
    "deletable": true,
    "editable": true
   },
   "source": [
    "## Pandas - изучение данных"
   ]
  },
  {
   "cell_type": "markdown",
   "metadata": {
    "collapsed": true,
    "deletable": true,
    "editable": true
   },
   "source": [
    "Перейти по ссылке [Kaggle]( https://www.kaggle.com/openfoodfacts/world-food-facts)"
   ]
  },
  {
   "cell_type": "markdown",
   "metadata": {
    "collapsed": true,
    "deletable": true,
    "editable": true
   },
   "source": [
    "Скачать датасет на свой компьютер и распаковать"
   ]
  },
  {
   "cell_type": "markdown",
   "metadata": {
    "collapsed": true,
    "deletable": true,
    "editable": true
   },
   "source": [
    "Считать csv файл в датафрейм food"
   ]
  },
  {
   "cell_type": "code",
   "execution_count": 18,
   "metadata": {
    "collapsed": true,
    "deletable": true,
    "editable": true
   },
   "outputs": [],
   "source": [
    "import pandas\n",
    "food = pandas.read_csv('en.openfoodfacts.org.products.tsv', error_bad_lines=False, dtype='unicode', delimiter='\\t')"
   ]
  },
  {
   "cell_type": "markdown",
   "metadata": {
    "collapsed": true,
    "deletable": true,
    "editable": true
   },
   "source": [
    "Посмотреть первые 5 записей"
   ]
  },
  {
   "cell_type": "code",
   "execution_count": 19,
   "metadata": {
    "collapsed": false,
    "deletable": true,
    "editable": true
   },
   "outputs": [
    {
     "data": {
      "text/plain": [
       "<bound method NDFrame.head of                  code                                                url  \\\n0       0000000003087  http://world-en.openfoodfacts.org/product/0000...   \n1       0000000004530  http://world-en.openfoodfacts.org/product/0000...   \n2       0000000004559  http://world-en.openfoodfacts.org/product/0000...   \n3       0000000016087  http://world-en.openfoodfacts.org/product/0000...   \n4       0000000016094  http://world-en.openfoodfacts.org/product/0000...   \n5       0000000016100  http://world-en.openfoodfacts.org/product/0000...   \n6       0000000016117  http://world-en.openfoodfacts.org/product/0000...   \n7       0000000016124  http://world-en.openfoodfacts.org/product/0000...   \n8       0000000016193  http://world-en.openfoodfacts.org/product/0000...   \n9       0000000016513  http://world-en.openfoodfacts.org/product/0000...   \n10      0000000016612  http://world-en.openfoodfacts.org/product/0000...   \n11      0000000016650  http://world-en.openfoodfacts.org/product/0000...   \n12      0000000016872  http://world-en.openfoodfacts.org/product/0000...   \n13      0000000016933  http://world-en.openfoodfacts.org/product/0000...   \n14      0000000017497  http://world-en.openfoodfacts.org/product/0000...   \n15      0000000018012  http://world-en.openfoodfacts.org/product/0000...   \n16      0000000018050  http://world-en.openfoodfacts.org/product/0000...   \n17      0000000018173  http://world-en.openfoodfacts.org/product/0000...   \n18      0000000018197  http://world-en.openfoodfacts.org/product/0000...   \n19      0000000018227  http://world-en.openfoodfacts.org/product/0000...   \n20      0000000018265  http://world-en.openfoodfacts.org/product/0000...   \n21      0000000018289  http://world-en.openfoodfacts.org/product/0000...   \n22      0000000018319  http://world-en.openfoodfacts.org/product/0000...   \n23      0000000018340  http://world-en.openfoodfacts.org/product/0000...   \n24      0000000018357  http://world-en.openfoodfacts.org/product/0000...   \n25      0000000018371  http://world-en.openfoodfacts.org/product/0000...   \n26      0000000018388  http://world-en.openfoodfacts.org/product/0000...   \n27      0000000018395  http://world-en.openfoodfacts.org/product/0000...   \n28      0000000018401  http://world-en.openfoodfacts.org/product/0000...   \n29      0000000018418  http://world-en.openfoodfacts.org/product/0000...   \n...               ...                                                ...   \n355997  9791463741241  http://world-en.openfoodfacts.org/product/9791...   \n355998     9800120499  http://world-en.openfoodfacts.org/product/9800...   \n355999     9800801107  http://world-en.openfoodfacts.org/product/9800...   \n356000     9800895007  http://world-en.openfoodfacts.org/product/9800...   \n356001     9800895250  http://world-en.openfoodfacts.org/product/9800...   \n356002        9802735  http://world-en.openfoodfacts.org/product/9802735   \n356003  9820111458900  http://world-en.openfoodfacts.org/product/9820...   \n356004  9836654056565  http://world-en.openfoodfacts.org/product/9836...   \n356005  9847548283004  http://world-en.openfoodfacts.org/product/9847...   \n356006    98709870987  http://world-en.openfoodfacts.org/product/9870...   \n356007     9871311007  http://world-en.openfoodfacts.org/product/9871...   \n356008  9876567898765  http://world-en.openfoodfacts.org/product/9876...   \n356009         988639   http://world-en.openfoodfacts.org/product/988639   \n356010  9900000000233  http://world-en.openfoodfacts.org/product/9900...   \n356011  9900010011557  http://world-en.openfoodfacts.org/product/9900...   \n356012  9901198001583  http://world-en.openfoodfacts.org/product/9901...   \n356013  9901942000794  http://world-en.openfoodfacts.org/product/9901...   \n356014       99044169  http://world-en.openfoodfacts.org/product/9904...   \n356015  9906410000009  http://world-en.openfoodfacts.org/product/9906...   \n356016  9908278636246  http://world-en.openfoodfacts.org/product/9908...   \n356017       99111250  http://world-en.openfoodfacts.org/product/9911...   \n356018           9918  http://world-en.openfoodfacts.org/product/9918...   \n356019  9935010000003  http://world-en.openfoodfacts.org/product/9935...   \n356020       99410148  http://world-en.openfoodfacts.org/product/9941...   \n356021  9948282780603  http://world-en.openfoodfacts.org/product/9948...   \n356022       99567453  http://world-en.openfoodfacts.org/product/9956...   \n356023  9970229501521  http://world-en.openfoodfacts.org/product/9970...   \n356024  9977471758307  http://world-en.openfoodfacts.org/product/9977...   \n356025  9980282863788  http://world-en.openfoodfacts.org/product/9980...   \n356026   999990026839  http://world-en.openfoodfacts.org/product/9999...   \n\n                           creator   created_t      created_datetime  \\\n0       openfoodfacts-contributors  1474103866  2016-09-17T09:17:46Z   \n1                  usda-ndb-import  1489069957  2017-03-09T14:32:37Z   \n2                  usda-ndb-import  1489069957  2017-03-09T14:32:37Z   \n3                  usda-ndb-import  1489055731  2017-03-09T10:35:31Z   \n4                  usda-ndb-import  1489055653  2017-03-09T10:34:13Z   \n5                  usda-ndb-import  1489055651  2017-03-09T10:34:11Z   \n6                  usda-ndb-import  1489055730  2017-03-09T10:35:30Z   \n7                  usda-ndb-import  1489055711  2017-03-09T10:35:11Z   \n8                  usda-ndb-import  1489055651  2017-03-09T10:34:11Z   \n9                  usda-ndb-import  1489055654  2017-03-09T10:34:14Z   \n10                 usda-ndb-import  1489055731  2017-03-09T10:35:31Z   \n11                 usda-ndb-import  1489055668  2017-03-09T10:34:28Z   \n12                 usda-ndb-import  1489055650  2017-03-09T10:34:10Z   \n13                 usda-ndb-import  1489055651  2017-03-09T10:34:11Z   \n14                 usda-ndb-import  1489055678  2017-03-09T10:34:38Z   \n15                 usda-ndb-import  1489055652  2017-03-09T10:34:12Z   \n16                 usda-ndb-import  1489050462  2017-03-09T09:07:42Z   \n17                 usda-ndb-import  1489055667  2017-03-09T10:34:27Z   \n18                 usda-ndb-import  1489055652  2017-03-09T10:34:12Z   \n19                 usda-ndb-import  1489055682  2017-03-09T10:34:42Z   \n20                 usda-ndb-import  1489055706  2017-03-09T10:35:06Z   \n21                 usda-ndb-import  1489055654  2017-03-09T10:34:14Z   \n22                 usda-ndb-import  1489055720  2017-03-09T10:35:20Z   \n23                 usda-ndb-import  1489055721  2017-03-09T10:35:21Z   \n24                 usda-ndb-import  1489138486  2017-03-10T09:34:46Z   \n25                 usda-ndb-import  1489055713  2017-03-09T10:35:13Z   \n26                 usda-ndb-import  1489055653  2017-03-09T10:34:13Z   \n27                 usda-ndb-import  1489055654  2017-03-09T10:34:14Z   \n28                 usda-ndb-import  1489055712  2017-03-09T10:35:12Z   \n29                 usda-ndb-import  1489055714  2017-03-09T10:35:14Z   \n...                            ...         ...                   ...   \n355997                    scailyna  1395513393  2014-03-22T18:36:33Z   \n355998  openfoodfacts-contributors  1491776869  2017-04-09T22:27:49Z   \n355999          tacite-mass-editor  1490554697  2017-03-26T18:58:17Z   \n356000          tacite-mass-editor  1490554698  2017-03-26T18:58:18Z   \n356001          tacite-mass-editor  1490554697  2017-03-26T18:58:17Z   \n356002             date-limite-app  1472728165  2016-09-01T11:09:25Z   \n356003  openfoodfacts-contributors  1432669316  2015-05-26T19:41:56Z   \n356004             usda-ndb-import  1489055289  2017-03-09T10:28:09Z   \n356005                   drmalabar  1437817626  2015-07-25T09:47:06Z   \n356006  openfoodfacts-contributors  1472254210  2016-08-26T23:30:10Z   \n356007                      aleene  1444561704  2015-10-11T11:08:24Z   \n356008  openfoodfacts-contributors  1472253428  2016-08-26T23:17:08Z   \n356009          tacite-mass-editor  1490554698  2017-03-26T18:58:18Z   \n356010                     kiliweb  1491079938  2017-04-01T20:52:18Z   \n356011                    jeanbono  1375778997  2013-08-06T08:49:57Z   \n356012  openfoodfacts-contributors  1450594133  2015-12-20T06:48:53Z   \n356013               gaspardbenoit  1493544769  2017-04-30T09:32:49Z   \n356014             date-limite-app  1421873458  2015-01-21T20:50:58Z   \n356015                  agamitsudo  1373480408  2013-07-10T18:20:08Z   \n356016                       andre  1360585770  2013-02-11T12:29:30Z   \n356017                    balooval  1367163039  2013-04-28T15:30:39Z   \n356018                  woshilapin  1430167954  2015-04-27T20:52:34Z   \n356019                    sebleouf  1446293229  2015-10-31T12:07:09Z   \n356020             date-limite-app  1463936572  2016-05-22T17:02:52Z   \n356021  openfoodfacts-contributors  1490631299  2017-03-27T16:14:59Z   \n356022             usda-ndb-import  1489059076  2017-03-09T11:31:16Z   \n356023                      tomato  1422099377  2015-01-24T11:36:17Z   \n356024  openfoodfacts-contributors  1497018549  2017-06-09T14:29:09Z   \n356025  openfoodfacts-contributors  1492340089  2017-04-16T10:54:49Z   \n356026             usda-ndb-import  1489072709  2017-03-09T15:18:29Z   \n\n       last_modified_t last_modified_datetime  \\\n0           1474103893   2016-09-17T09:18:13Z   \n1           1489069957   2017-03-09T14:32:37Z   \n2           1489069957   2017-03-09T14:32:37Z   \n3           1489055731   2017-03-09T10:35:31Z   \n4           1489055653   2017-03-09T10:34:13Z   \n5           1489055651   2017-03-09T10:34:11Z   \n6           1489055730   2017-03-09T10:35:30Z   \n7           1489055712   2017-03-09T10:35:12Z   \n8           1489055651   2017-03-09T10:34:11Z   \n9           1489055654   2017-03-09T10:34:14Z   \n10          1489055731   2017-03-09T10:35:31Z   \n11          1489055668   2017-03-09T10:34:28Z   \n12          1489055651   2017-03-09T10:34:11Z   \n13          1489055651   2017-03-09T10:34:11Z   \n14          1489055678   2017-03-09T10:34:38Z   \n15          1489055653   2017-03-09T10:34:13Z   \n16          1489050462   2017-03-09T09:07:42Z   \n17          1489055667   2017-03-09T10:34:27Z   \n18          1489055652   2017-03-09T10:34:12Z   \n19          1489055682   2017-03-09T10:34:42Z   \n20          1489055706   2017-03-09T10:35:06Z   \n21          1489055655   2017-03-09T10:34:15Z   \n22          1489055720   2017-03-09T10:35:20Z   \n23          1489055721   2017-03-09T10:35:21Z   \n24          1489138486   2017-03-10T09:34:46Z   \n25          1489055713   2017-03-09T10:35:13Z   \n26          1489055653   2017-03-09T10:34:13Z   \n27          1489055654   2017-03-09T10:34:14Z   \n28          1489055712   2017-03-09T10:35:12Z   \n29          1489055714   2017-03-09T10:35:14Z   \n...                ...                    ...   \n355997      1443886689   2015-10-03T15:38:09Z   \n355998      1491776873   2017-04-09T22:27:53Z   \n355999      1490554697   2017-03-26T18:58:17Z   \n356000      1490554698   2017-03-26T18:58:18Z   \n356001      1490554697   2017-03-26T18:58:17Z   \n356002      1472728167   2016-09-01T11:09:27Z   \n356003      1461438595   2016-04-23T19:09:55Z   \n356004      1489055289   2017-03-09T10:28:09Z   \n356005      1442237848   2015-09-14T13:37:28Z   \n356006      1474729393   2016-09-24T15:03:13Z   \n356007      1444561971   2015-10-11T11:12:51Z   \n356008      1472253428   2016-08-26T23:17:08Z   \n356009      1490554698   2017-03-26T18:58:18Z   \n356010      1491079939   2017-04-01T20:52:19Z   \n356011      1504698840   2017-09-06T11:54:00Z   \n356012      1471893651   2016-08-22T19:20:51Z   \n356013      1493544860   2017-04-30T09:34:20Z   \n356014      1460898286   2016-04-17T13:04:46Z   \n356015      1451851215   2016-01-03T20:00:15Z   \n356016      1389960647   2014-01-17T12:10:47Z   \n356017      1371690556   2013-06-20T01:09:16Z   \n356018      1430167992   2015-04-27T20:53:12Z   \n356019      1446376839   2015-11-01T11:20:39Z   \n356020      1491244498   2017-04-03T18:34:58Z   \n356021      1491244498   2017-04-03T18:34:58Z   \n356022      1491244499   2017-04-03T18:34:59Z   \n356023      1491244499   2017-04-03T18:34:59Z   \n356024      1500730305   2017-07-22T13:31:45Z   \n356025      1492340089   2017-04-16T10:54:49Z   \n356026      1491244499   2017-04-03T18:34:59Z   \n\n                                             product_name  \\\n0                                      Farine de blé noir   \n1                          Banana Chips Sweetened (Whole)   \n2                                                 Peanuts   \n3                                  Organic Salted Nut Mix   \n4                                         Organic Polenta   \n5                       Breadshop Honey Gone Nuts Granola   \n6                           Organic Long Grain White Rice   \n7                                          Organic Muesli   \n8                            Organic Dark Chocolate Minis   \n9                                   Organic Sunflower Oil   \n10                                   Organic Adzuki Beans   \n11                                    Organic Penne Pasta   \n12                                          Zen Party Mix   \n13                              Organic Golden Flax Seeds   \n14                                    Organic Spicy Punks   \n15                                   Cinnamon Nut Granola   \n16                                      Organic Hazelnuts   \n17                         Organic Sweetened Banana Chips   \n18                       Lotus Organic Brown Jasmine Rice   \n19                                     Organic Oat Groats   \n20                                       Energy Power Mix   \n21                  Antioxidant Mix - Berries & Chocolate   \n22              Organic Quinoa Coconut Granola With Mango   \n23                 Fire Roasted Hatch Green Chile Almonds   \n24                              Peanut Butter Power Chews   \n25                                     Real Salt Granular   \n26                    Organic Unswt Berry Coconut Granola   \n27                    Roasted Salted Black Pepper Cashews   \n28                             Thai Curry Roasted Cashews   \n29                                  Wasabi Tamari Almonds   \n...                                                   ...   \n355997                                          Gingembre   \n355998                                     Ferrero Rocher   \n355999                                                NaN   \n356000                                                NaN   \n356001                                                NaN   \n356002                                                NaN   \n356003                     Les Belles Tranches Bacon fumé   \n356004                                  Raspados Ice Bars   \n356005                Tartines craquantes bio au sarrasin   \n356006                                                NaN   \n356007                                              Lager   \n356008                                            nf test   \n356009                                                NaN   \n356010                                            Amandes   \n356011                                   Miel de Camargue   \n356012                                       Лимон — лайм   \n356013                                     Mleko wiejskie   \n356014                                           Poireaux   \n356015                          Roussette du Bugey (2011)   \n356016                           Szprot w oleju roslinnym   \n356017                                 Thé vert Earl grey   \n356018                         Cheese cake thé vert, yuzu   \n356019                                     Rillette d'oie   \n356020                                                NaN   \n356021                                  Tomato & ricotta    \n356022  Mint Melange Tea A Blend Of Peppermint, Lemon ...   \n356023                                            乐吧泡菜味薯片   \n356024                                      Biscottes bio   \n356025                           Tomates aux Vermicelles    \n356026                    Sugar Free Drink Mix, Peach Tea   \n\n                           generic_name quantity         ...          \\\n0                                   NaN      1kg         ...           \n1                                   NaN      NaN         ...           \n2                                   NaN      NaN         ...           \n3                                   NaN      NaN         ...           \n4                                   NaN      NaN         ...           \n5                                   NaN      NaN         ...           \n6                                   NaN      NaN         ...           \n7                                   NaN      NaN         ...           \n8                                   NaN      NaN         ...           \n9                                   NaN      NaN         ...           \n10                                  NaN      NaN         ...           \n11                                  NaN      NaN         ...           \n12                                  NaN      NaN         ...           \n13                                  NaN      NaN         ...           \n14                                  NaN      NaN         ...           \n15                                  NaN      NaN         ...           \n16                                  NaN      NaN         ...           \n17                                  NaN      NaN         ...           \n18                                  NaN      NaN         ...           \n19                                  NaN      NaN         ...           \n20                                  NaN      NaN         ...           \n21                                  NaN      NaN         ...           \n22                                  NaN      NaN         ...           \n23                                  NaN      NaN         ...           \n24                                  NaN      NaN         ...           \n25                                  NaN      NaN         ...           \n26                                  NaN      NaN         ...           \n27                                  NaN      NaN         ...           \n28                                  NaN      NaN         ...           \n29                                  NaN      NaN         ...           \n...                                 ...      ...         ...           \n355997                              NaN     50 g         ...           \n355998                              NaN      NaN         ...           \n355999                              NaN      NaN         ...           \n356000                              NaN      NaN         ...           \n356001                              NaN      NaN         ...           \n356002                              NaN      NaN         ...           \n356003                              NaN    180 g         ...           \n356004                              NaN      NaN         ...           \n356005                              NaN      NaN         ...           \n356006                              NaN     33cl         ...           \n356007         Bière caribeenne de luxe   330 ml         ...           \n356008                              NaN     100g         ...           \n356009                              NaN      NaN         ...           \n356010                              NaN      NaN         ...           \n356011                             Miel    250 g         ...           \n356012                              NaN        2         ...           \n356013                              NaN       1L         ...           \n356014                              NaN     1 kg         ...           \n356015              Vins blanc du Bugey   750 ml         ...           \n356016                            Sprot     170g         ...           \n356017                thé bio équitable     50 g         ...           \n356018                              NaN      NaN         ...           \n356019                              NaN    180 g         ...           \n356020                              NaN      NaN         ...           \n356021                              NaN        1         ...           \n356022                              NaN      NaN         ...           \n356023  Leba pickle flavor potato chips     50 g         ...           \n356024                              NaN     300g         ...           \n356025                              NaN      67g         ...           \n356026                              NaN      NaN         ...           \n\n       fruits-vegetables-nuts_100g fruits-vegetables-nuts-estimate_100g  \\\n0                              NaN                                  NaN   \n1                              NaN                                  NaN   \n2                              NaN                                  NaN   \n3                              NaN                                  NaN   \n4                              NaN                                  NaN   \n5                              NaN                                  NaN   \n6                              NaN                                  NaN   \n7                              NaN                                  NaN   \n8                              NaN                                  NaN   \n9                              NaN                                  NaN   \n10                             NaN                                  NaN   \n11                             NaN                                  NaN   \n12                             NaN                                  NaN   \n13                             NaN                                  NaN   \n14                             NaN                                  NaN   \n15                             NaN                                  NaN   \n16                             NaN                                  NaN   \n17                             NaN                                  NaN   \n18                             NaN                                  NaN   \n19                             NaN                                  NaN   \n20                             NaN                                  NaN   \n21                             NaN                                  NaN   \n22                             NaN                                  NaN   \n23                             NaN                                  NaN   \n24                             NaN                                  NaN   \n25                             NaN                                  NaN   \n26                             NaN                                  NaN   \n27                             NaN                                  NaN   \n28                             NaN                                  NaN   \n29                             NaN                                  NaN   \n...                            ...                                  ...   \n355997                         NaN                                  NaN   \n355998                         NaN                                  NaN   \n355999                         NaN                                  NaN   \n356000                         NaN                                  NaN   \n356001                         NaN                                  NaN   \n356002                         NaN                                  NaN   \n356003                         NaN                                  NaN   \n356004                         NaN                                  NaN   \n356005                         NaN                                  NaN   \n356006                         NaN                                  NaN   \n356007                         NaN                                  NaN   \n356008                         NaN                                  NaN   \n356009                         NaN                                  NaN   \n356010                         NaN                                  NaN   \n356011                         NaN                                  NaN   \n356012                         NaN                                  NaN   \n356013                         NaN                                  NaN   \n356014                         NaN                                  NaN   \n356015                         NaN                                  NaN   \n356016                         NaN                                  NaN   \n356017                         NaN                                  NaN   \n356018                         NaN                                  NaN   \n356019                         NaN                                  NaN   \n356020                         NaN                                  NaN   \n356021                         NaN                                  NaN   \n356022                         NaN                                  NaN   \n356023                         NaN                                  NaN   \n356024                         NaN                                  NaN   \n356025                         NaN                                  NaN   \n356026                         NaN                                  NaN   \n\n       collagen-meat-protein-ratio_100g cocoa_100g chlorophyl_100g  \\\n0                                   NaN        NaN             NaN   \n1                                   NaN        NaN             NaN   \n2                                   NaN        NaN             NaN   \n3                                   NaN        NaN             NaN   \n4                                   NaN        NaN             NaN   \n5                                   NaN        NaN             NaN   \n6                                   NaN        NaN             NaN   \n7                                   NaN        NaN             NaN   \n8                                   NaN        NaN             NaN   \n9                                   NaN        NaN             NaN   \n10                                  NaN        NaN             NaN   \n11                                  NaN        NaN             NaN   \n12                                  NaN        NaN             NaN   \n13                                  NaN        NaN             NaN   \n14                                  NaN        NaN             NaN   \n15                                  NaN        NaN             NaN   \n16                                  NaN        NaN             NaN   \n17                                  NaN        NaN             NaN   \n18                                  NaN        NaN             NaN   \n19                                  NaN        NaN             NaN   \n20                                  NaN        NaN             NaN   \n21                                  NaN        NaN             NaN   \n22                                  NaN        NaN             NaN   \n23                                  NaN        NaN             NaN   \n24                                  NaN        NaN             NaN   \n25                                  NaN        NaN             NaN   \n26                                  NaN        NaN             NaN   \n27                                  NaN        NaN             NaN   \n28                                  NaN        NaN             NaN   \n29                                  NaN        NaN             NaN   \n...                                 ...        ...             ...   \n355997                              NaN        NaN             NaN   \n355998                              NaN        NaN             NaN   \n355999                              NaN        NaN             NaN   \n356000                              NaN        NaN             NaN   \n356001                              NaN        NaN             NaN   \n356002                              NaN        NaN             NaN   \n356003                              NaN        NaN             NaN   \n356004                              NaN        NaN             NaN   \n356005                              NaN        NaN             NaN   \n356006                              NaN        NaN             NaN   \n356007                              NaN        NaN             NaN   \n356008                              NaN        NaN             NaN   \n356009                              NaN        NaN             NaN   \n356010                              NaN        NaN             NaN   \n356011                              NaN        NaN             NaN   \n356012                              NaN        NaN             NaN   \n356013                              NaN        NaN             NaN   \n356014                              NaN        NaN             NaN   \n356015                              NaN        NaN             NaN   \n356016                              NaN        NaN             NaN   \n356017                              NaN        NaN             NaN   \n356018                              NaN        NaN             NaN   \n356019                              NaN        NaN             NaN   \n356020                              NaN        NaN             NaN   \n356021                              NaN        NaN             NaN   \n356022                              NaN        NaN             NaN   \n356023                              NaN        NaN             NaN   \n356024                              NaN        NaN             NaN   \n356025                              NaN        NaN             NaN   \n356026                              NaN        NaN             NaN   \n\n       carbon-footprint_100g nutrition-score-fr_100g nutrition-score-uk_100g  \\\n0                        NaN                     NaN                     NaN   \n1                        NaN                      14                      14   \n2                        NaN                       0                       0   \n3                        NaN                      12                      12   \n4                        NaN                     NaN                     NaN   \n5                        NaN                     NaN                     NaN   \n6                        NaN                     NaN                     NaN   \n7                        NaN                       7                       7   \n8                        NaN                     NaN                     NaN   \n9                        NaN                     NaN                     NaN   \n10                       NaN                     NaN                     NaN   \n11                       NaN                     NaN                     NaN   \n12                       NaN                      12                      12   \n13                       NaN                     NaN                     NaN   \n14                       NaN                     NaN                     NaN   \n15                       NaN                       0                       0   \n16                       NaN                       0                       0   \n17                       NaN                     NaN                     NaN   \n18                       NaN                     NaN                     NaN   \n19                       NaN                      -6                      -6   \n20                       NaN                      14                      14   \n21                       NaN                      15                      15   \n22                       NaN                       7                       7   \n23                       NaN                      11                      11   \n24                       NaN                       9                       9   \n25                       NaN                     NaN                     NaN   \n26                       NaN                       0                       0   \n27                       NaN                      16                      16   \n28                       NaN                      15                      15   \n29                       NaN                      12                      12   \n...                      ...                     ...                     ...   \n355997                   NaN                     NaN                     NaN   \n355998                   NaN                     NaN                     NaN   \n355999                   NaN                     NaN                     NaN   \n356000                   NaN                     NaN                     NaN   \n356001                   NaN                     NaN                     NaN   \n356002                   NaN                     NaN                     NaN   \n356003                   NaN                     NaN                     NaN   \n356004                   NaN                     NaN                     NaN   \n356005                   NaN                      -4                      -4   \n356006                   NaN                     NaN                     NaN   \n356007                   NaN                     NaN                     NaN   \n356008                   NaN                     NaN                     NaN   \n356009                   NaN                     NaN                     NaN   \n356010                   NaN                       0                       0   \n356011                   NaN                     NaN                     NaN   \n356012                   NaN                     NaN                     NaN   \n356013                   NaN                     NaN                     NaN   \n356014                   NaN                     NaN                     NaN   \n356015                   NaN                     NaN                     NaN   \n356016                   NaN                     NaN                     NaN   \n356017                   NaN                     NaN                     NaN   \n356018                   NaN                     NaN                     NaN   \n356019                   NaN                     NaN                     NaN   \n356020                   NaN                     NaN                     NaN   \n356021                   NaN                     NaN                     NaN   \n356022                   NaN                       0                       0   \n356023                   NaN                     NaN                     NaN   \n356024                   NaN                     NaN                     NaN   \n356025                   NaN                     NaN                     NaN   \n356026                   NaN                     NaN                     NaN   \n\n       glycemic-index_100g water-hardness_100g  \n0                      NaN                 NaN  \n1                      NaN                 NaN  \n2                      NaN                 NaN  \n3                      NaN                 NaN  \n4                      NaN                 NaN  \n5                      NaN                 NaN  \n6                      NaN                 NaN  \n7                      NaN                 NaN  \n8                      NaN                 NaN  \n9                      NaN                 NaN  \n10                     NaN                 NaN  \n11                     NaN                 NaN  \n12                     NaN                 NaN  \n13                     NaN                 NaN  \n14                     NaN                 NaN  \n15                     NaN                 NaN  \n16                     NaN                 NaN  \n17                     NaN                 NaN  \n18                     NaN                 NaN  \n19                     NaN                 NaN  \n20                     NaN                 NaN  \n21                     NaN                 NaN  \n22                     NaN                 NaN  \n23                     NaN                 NaN  \n24                     NaN                 NaN  \n25                     NaN                 NaN  \n26                     NaN                 NaN  \n27                     NaN                 NaN  \n28                     NaN                 NaN  \n29                     NaN                 NaN  \n...                    ...                 ...  \n355997                 NaN                 NaN  \n355998                 NaN                 NaN  \n355999                 NaN                 NaN  \n356000                 NaN                 NaN  \n356001                 NaN                 NaN  \n356002                 NaN                 NaN  \n356003                 NaN                 NaN  \n356004                 NaN                 NaN  \n356005                 NaN                 NaN  \n356006                 NaN                 NaN  \n356007                 NaN                 NaN  \n356008                 NaN                 NaN  \n356009                 NaN                 NaN  \n356010                 NaN                 NaN  \n356011                 NaN                 NaN  \n356012                 NaN                 NaN  \n356013                 NaN                 NaN  \n356014                 NaN                 NaN  \n356015                 NaN                 NaN  \n356016                 NaN                 NaN  \n356017                 NaN                 NaN  \n356018                 NaN                 NaN  \n356019                 NaN                 NaN  \n356020                 NaN                 NaN  \n356021                 NaN                 NaN  \n356022                 NaN                 NaN  \n356023                 NaN                 NaN  \n356024                 NaN                 NaN  \n356025                 NaN                 NaN  \n356026                 NaN                 NaN  \n\n[356027 rows x 163 columns]>"
      ]
     },
     "execution_count": 19,
     "metadata": {},
     "output_type": "execute_result"
    }
   ],
   "source": [
    "food.head"
   ]
  },
  {
   "cell_type": "markdown",
   "metadata": {
    "collapsed": true,
    "deletable": true,
    "editable": true
   },
   "source": [
    "Сколько наблюдений в наборе данных?\n"
   ]
  },
  {
   "cell_type": "code",
   "execution_count": 21,
   "metadata": {
    "collapsed": true,
    "deletable": true,
    "editable": true
   },
   "outputs": [
    {
     "name": "stdout",
     "output_type": "stream",
     "text": [
      "356027\n"
     ]
    }
   ],
   "source": [
    "print(len(food))"
   ]
  },
  {
   "cell_type": "markdown",
   "metadata": {
    "collapsed": true,
    "deletable": true,
    "editable": true
   },
   "source": [
    "Сколько столбцов в наборе данных?"
   ]
  },
  {
   "cell_type": "code",
   "execution_count": 22,
   "metadata": {
    "collapsed": true,
    "deletable": true,
    "editable": true
   },
   "outputs": [
    {
     "name": "stdout",
     "output_type": "stream",
     "text": [
      "163\n"
     ]
    }
   ],
   "source": [
    "print(len(food.columns))"
   ]
  },
  {
   "cell_type": "markdown",
   "metadata": {
    "collapsed": true,
    "deletable": true,
    "editable": true
   },
   "source": [
    "Напечатайте все названия столбцов"
   ]
  },
  {
   "cell_type": "code",
   "execution_count": 23,
   "metadata": {
    "collapsed": false,
    "deletable": true,
    "editable": true
   },
   "outputs": [
    {
     "name": "stdout",
     "output_type": "stream",
     "text": [
      "['code' 'url' 'creator' 'created_t' 'created_datetime' 'last_modified_t'\n 'last_modified_datetime' 'product_name' 'generic_name' 'quantity'\n 'packaging' 'packaging_tags' 'brands' 'brands_tags' 'categories'\n 'categories_tags' 'categories_en' 'origins' 'origins_tags'\n 'manufacturing_places' 'manufacturing_places_tags' 'labels' 'labels_tags'\n 'labels_en' 'emb_codes' 'emb_codes_tags' 'first_packaging_code_geo'\n 'cities' 'cities_tags' 'purchase_places' 'stores' 'countries'\n 'countries_tags' 'countries_en' 'ingredients_text' 'allergens'\n 'allergens_en' 'traces' 'traces_tags' 'traces_en' 'serving_size'\n 'no_nutriments' 'additives_n' 'additives' 'additives_tags' 'additives_en'\n 'ingredients_from_palm_oil_n' 'ingredients_from_palm_oil'\n 'ingredients_from_palm_oil_tags'\n 'ingredients_that_may_be_from_palm_oil_n'\n 'ingredients_that_may_be_from_palm_oil'\n 'ingredients_that_may_be_from_palm_oil_tags' 'nutrition_grade_uk'\n 'nutrition_grade_fr' 'pnns_groups_1' 'pnns_groups_2' 'states'\n 'states_tags' 'states_en' 'main_category' 'main_category_en' 'image_url'\n 'image_small_url' 'energy_100g' 'energy-from-fat_100g' 'fat_100g'\n 'saturated-fat_100g' '-butyric-acid_100g' '-caproic-acid_100g'\n '-caprylic-acid_100g' '-capric-acid_100g' '-lauric-acid_100g'\n '-myristic-acid_100g' '-palmitic-acid_100g' '-stearic-acid_100g'\n '-arachidic-acid_100g' '-behenic-acid_100g' '-lignoceric-acid_100g'\n '-cerotic-acid_100g' '-montanic-acid_100g' '-melissic-acid_100g'\n 'monounsaturated-fat_100g' 'polyunsaturated-fat_100g' 'omega-3-fat_100g'\n '-alpha-linolenic-acid_100g' '-eicosapentaenoic-acid_100g'\n '-docosahexaenoic-acid_100g' 'omega-6-fat_100g' '-linoleic-acid_100g'\n '-arachidonic-acid_100g' '-gamma-linolenic-acid_100g'\n '-dihomo-gamma-linolenic-acid_100g' 'omega-9-fat_100g' '-oleic-acid_100g'\n '-elaidic-acid_100g' '-gondoic-acid_100g' '-mead-acid_100g'\n '-erucic-acid_100g' '-nervonic-acid_100g' 'trans-fat_100g'\n 'cholesterol_100g' 'carbohydrates_100g' 'sugars_100g' '-sucrose_100g'\n '-glucose_100g' '-fructose_100g' '-lactose_100g' '-maltose_100g'\n '-maltodextrins_100g' 'starch_100g' 'polyols_100g' 'fiber_100g'\n 'proteins_100g' 'casein_100g' 'serum-proteins_100g' 'nucleotides_100g'\n 'salt_100g' 'sodium_100g' 'alcohol_100g' 'vitamin-a_100g'\n 'beta-carotene_100g' 'vitamin-d_100g' 'vitamin-e_100g' 'vitamin-k_100g'\n 'vitamin-c_100g' 'vitamin-b1_100g' 'vitamin-b2_100g' 'vitamin-pp_100g'\n 'vitamin-b6_100g' 'vitamin-b9_100g' 'folates_100g' 'vitamin-b12_100g'\n 'biotin_100g' 'pantothenic-acid_100g' 'silica_100g' 'bicarbonate_100g'\n 'potassium_100g' 'chloride_100g' 'calcium_100g' 'phosphorus_100g'\n 'iron_100g' 'magnesium_100g' 'zinc_100g' 'copper_100g' 'manganese_100g'\n 'fluoride_100g' 'selenium_100g' 'chromium_100g' 'molybdenum_100g'\n 'iodine_100g' 'caffeine_100g' 'taurine_100g' 'ph_100g'\n 'fruits-vegetables-nuts_100g' 'fruits-vegetables-nuts-estimate_100g'\n 'collagen-meat-protein-ratio_100g' 'cocoa_100g' 'chlorophyl_100g'\n 'carbon-footprint_100g' 'nutrition-score-fr_100g'\n 'nutrition-score-uk_100g' 'glycemic-index_100g' 'water-hardness_100g']\n"
     ]
    }
   ],
   "source": [
    "print(food.columns.values)"
   ]
  },
  {
   "cell_type": "markdown",
   "metadata": {
    "collapsed": true,
    "deletable": true,
    "editable": true
   },
   "source": [
    "Какое название у 105 столбца?"
   ]
  },
  {
   "cell_type": "code",
   "execution_count": 31,
   "metadata": {
    "collapsed": false
   },
   "outputs": [
    {
     "name": "stdout",
     "output_type": "stream",
     "text": [
      "-fructose_100g\n"
     ]
    }
   ],
   "source": [
    "food_value = food.columns[105]\n",
    "print(food_value)"
   ]
  },
  {
   "cell_type": "markdown",
   "metadata": {},
   "source": [
    "Какой тип наблюдений в 105 столбце?"
   ]
  },
  {
   "cell_type": "code",
   "execution_count": 30,
   "metadata": {
    "collapsed": true
   },
   "outputs": [
    {
     "name": "stdout",
     "output_type": "stream",
     "text": [
      "<class 'str'>\n"
     ]
    }
   ],
   "source": [
    "print(type(food_value))"
   ]
  },
  {
   "cell_type": "markdown",
   "metadata": {},
   "source": [
    "Как проиндексирован набор данных?"
   ]
  },
  {
   "cell_type": "code",
   "execution_count": 32,
   "metadata": {
    "collapsed": true
   },
   "outputs": [
    {
     "name": "stdout",
     "output_type": "stream",
     "text": [
      "[     0      1      2 ... 356024 356025 356026]\n"
     ]
    }
   ],
   "source": [
    "print(food.index.values)"
   ]
  },
  {
   "cell_type": "markdown",
   "metadata": {},
   "source": [
    "Каково значение имени продукта в 19-м наблюдении?"
   ]
  },
  {
   "cell_type": "code",
   "execution_count": 33,
   "metadata": {
    "collapsed": true
   },
   "outputs": [
    {
     "name": "stdout",
     "output_type": "stream",
     "text": [
      "Organic Oat Groats\n"
     ]
    }
   ],
   "source": [
    "print(food.iloc[19]['product_name'])"
   ]
  },
  {
   "cell_type": "markdown",
   "metadata": {},
   "source": [
    "## Pandas - фильтрация данных"
   ]
  },
  {
   "cell_type": "markdown",
   "metadata": {},
   "source": [
    "Считать данные по  [адресу](https://raw.githubusercontent.com/justmarkham/DAT8/master/data/chipotle.tsv). \n",
    "Присвоить переменной chipo"
   ]
  },
  {
   "cell_type": "code",
   "execution_count": 91,
   "metadata": {
    "collapsed": false
   },
   "outputs": [],
   "source": [
    "chipo = pandas.read_csv('chipotle.tsv', error_bad_lines=False, sep='\\t')"
   ]
  },
  {
   "cell_type": "markdown",
   "metadata": {},
   "source": [
    "Как много продуктов стоят более чем $10.00?"
   ]
  },
  {
   "cell_type": "code",
   "execution_count": 92,
   "metadata": {
    "collapsed": false
   },
   "outputs": [
    {
     "name": "stdout",
     "output_type": "stream",
     "text": [
      "1130\n"
     ]
    }
   ],
   "source": [
    "\n",
    "item_price_without_currency = chipo['item_price']\n",
    "item_price_without_currency = item_price_without_currency.replace('[\\$,]', '', regex=True).astype(float)\n",
    "print(len(item_price_without_currency[item_price_without_currency.apply(lambda x: x > 10.00)]))"
   ]
  },
  {
   "cell_type": "markdown",
   "metadata": {},
   "source": [
    "Какова цена каждого предмета? Напечатать столбцы item_name и item_price"
   ]
  },
  {
   "cell_type": "code",
   "execution_count": 81,
   "metadata": {
    "collapsed": true
   },
   "outputs": [
    {
     "name": "stdout",
     "output_type": "stream",
     "text": [
      "                                  item_name  item_price\n0              Chips and Fresh Tomato Salsa        2.39\n1                                      Izze        3.39\n2                          Nantucket Nectar        3.39\n3     Chips and Tomatillo-Green Chili Salsa        2.39\n4                              Chicken Bowl       16.98\n5                              Chicken Bowl       10.98\n6                             Side of Chips        1.69\n7                             Steak Burrito       11.75\n8                          Steak Soft Tacos        9.25\n9                             Steak Burrito        9.25\n10                      Chips and Guacamole        4.45\n11                     Chicken Crispy Tacos        8.75\n12                       Chicken Soft Tacos        8.75\n13                             Chicken Bowl       11.25\n14                      Chips and Guacamole        4.45\n15    Chips and Tomatillo-Green Chili Salsa        2.39\n16                          Chicken Burrito        8.49\n17                          Chicken Burrito        8.49\n18                              Canned Soda        2.18\n19                             Chicken Bowl        8.75\n20                      Chips and Guacamole        4.45\n21                         Barbacoa Burrito        8.99\n22                         Nantucket Nectar        3.39\n23                          Chicken Burrito       10.98\n24                                     Izze        3.39\n25             Chips and Fresh Tomato Salsa        2.39\n26                             Chicken Bowl        8.49\n27                         Carnitas Burrito        8.99\n28                              Canned Soda        1.09\n29                          Chicken Burrito        8.49\n...                                     ...         ...\n4592                       Barbacoa Burrito       11.75\n4593                          Carnitas Bowl       11.75\n4594                          Barbacoa Bowl       11.75\n4595                           Chicken Bowl        8.75\n4596                    Chips and Guacamole        4.45\n4597                      Canned Soft Drink        1.25\n4598                          Bottled Water        1.50\n4599                           Chicken Bowl        8.75\n4600                    Chips and Guacamole        4.45\n4601                      Canned Soft Drink        1.25\n4602                       Barbacoa Burrito        9.25\n4603                       Barbacoa Burrito        9.25\n4604                           Chicken Bowl        8.75\n4605                    Chips and Guacamole        4.45\n4606                      Canned Soft Drink        1.25\n4607                          Steak Burrito       11.75\n4608                         Veggie Burrito       11.25\n4609                      Canned Soft Drink        1.25\n4610                          Steak Burrito       11.75\n4611                         Veggie Burrito       11.25\n4612                          Carnitas Bowl        9.25\n4613                                  Chips        2.15\n4614                          Bottled Water        1.50\n4615                     Chicken Soft Tacos        8.75\n4616                    Chips and Guacamole        4.45\n4617                          Steak Burrito       11.75\n4618                          Steak Burrito       11.75\n4619                     Chicken Salad Bowl       11.25\n4620                     Chicken Salad Bowl        8.75\n4621                     Chicken Salad Bowl        8.75\n\n[4622 rows x 2 columns]\n"
     ]
    }
   ],
   "source": [
    "print(chipo[['item_name','item_price']])"
   ]
  },
  {
   "cell_type": "markdown",
   "metadata": {},
   "source": [
    "Отсортировать по имени предмета"
   ]
  },
  {
   "cell_type": "code",
   "execution_count": 93,
   "metadata": {
    "collapsed": true
   },
   "outputs": [
    {
     "name": "stdout",
     "output_type": "stream",
     "text": [
      "      order_id  quantity          item_name  \\\n3389      1360         2  6 Pack Soft Drink   \n341        148         1  6 Pack Soft Drink   \n1849       749         1  6 Pack Soft Drink   \n1860       754         1  6 Pack Soft Drink   \n2713      1076         1  6 Pack Soft Drink   \n3422      1373         1  6 Pack Soft Drink   \n553        230         1  6 Pack Soft Drink   \n1916       774         1  6 Pack Soft Drink   \n1922       776         1  6 Pack Soft Drink   \n1937       784         1  6 Pack Soft Drink   \n3836      1537         1  6 Pack Soft Drink   \n298        129         1  6 Pack Soft Drink   \n1976       798         1  6 Pack Soft Drink   \n1167       481         1  6 Pack Soft Drink   \n3875      1554         1  6 Pack Soft Drink   \n1124       465         1  6 Pack Soft Drink   \n3886      1558         1  6 Pack Soft Drink   \n2108       849         1  6 Pack Soft Drink   \n3010      1196         1  6 Pack Soft Drink   \n4535      1803         1  6 Pack Soft Drink   \n4169      1664         1  6 Pack Soft Drink   \n4174      1666         1  6 Pack Soft Drink   \n4527      1800         1  6 Pack Soft Drink   \n4522      1798         1  6 Pack Soft Drink   \n3806      1525         1  6 Pack Soft Drink   \n2389       949         1  6 Pack Soft Drink   \n3132      1248         1  6 Pack Soft Drink   \n3141      1253         1  6 Pack Soft Drink   \n639        264         1  6 Pack Soft Drink   \n1026       422         1  6 Pack Soft Drink   \n...        ...       ...                ...   \n2996      1192         1       Veggie Salad   \n3163      1263         1       Veggie Salad   \n4084      1635         1       Veggie Salad   \n1694       686         1       Veggie Salad   \n2756      1094         1       Veggie Salad   \n4201      1677         1  Veggie Salad Bowl   \n1884       760         1  Veggie Salad Bowl   \n455        195         1  Veggie Salad Bowl   \n3223      1289         1  Veggie Salad Bowl   \n2223       896         1  Veggie Salad Bowl   \n2269       913         1  Veggie Salad Bowl   \n4541      1805         1  Veggie Salad Bowl   \n3293      1321         1  Veggie Salad Bowl   \n186         83         1  Veggie Salad Bowl   \n960        394         1  Veggie Salad Bowl   \n1316       536         1  Veggie Salad Bowl   \n2156       869         1  Veggie Salad Bowl   \n4261      1700         1  Veggie Salad Bowl   \n295        128         1  Veggie Salad Bowl   \n4573      1818         1  Veggie Salad Bowl   \n2683      1066         1  Veggie Salad Bowl   \n496        207         1  Veggie Salad Bowl   \n4109      1646         1  Veggie Salad Bowl   \n738        304         1  Veggie Soft Tacos   \n3889      1559         2  Veggie Soft Tacos   \n2384       948         1  Veggie Soft Tacos   \n781        322         1  Veggie Soft Tacos   \n2851      1132         1  Veggie Soft Tacos   \n1699       688         1  Veggie Soft Tacos   \n1395       567         1  Veggie Soft Tacos   \n\n                                     choice_description item_price  \n3389                                        [Diet Coke]    $12.98   \n341                                         [Diet Coke]     $6.49   \n1849                                             [Coke]     $6.49   \n1860                                        [Diet Coke]     $6.49   \n2713                                             [Coke]     $6.49   \n3422                                             [Coke]     $6.49   \n553                                         [Diet Coke]     $6.49   \n1916                                        [Diet Coke]     $6.49   \n1922                                             [Coke]     $6.49   \n1937                                        [Diet Coke]     $6.49   \n3836                                             [Coke]     $6.49   \n298                                            [Sprite]     $6.49   \n1976                                        [Diet Coke]     $6.49   \n1167                                             [Coke]     $6.49   \n3875                                        [Diet Coke]     $6.49   \n1124                                             [Coke]     $6.49   \n3886                                        [Diet Coke]     $6.49   \n2108                                             [Coke]     $6.49   \n3010                                        [Diet Coke]     $6.49   \n4535                                         [Lemonade]     $6.49   \n4169                                        [Diet Coke]     $6.49   \n4174                                             [Coke]     $6.49   \n4527                                        [Diet Coke]     $6.49   \n4522                                        [Diet Coke]     $6.49   \n3806                                           [Sprite]     $6.49   \n2389                                             [Coke]     $6.49   \n3132                                        [Diet Coke]     $6.49   \n3141                                         [Lemonade]     $6.49   \n639                                         [Diet Coke]     $6.49   \n1026                                           [Sprite]     $6.49   \n...                                                 ...        ...  \n2996  [Roasted Chili Corn Salsa (Medium), [Black Bea...     $8.49   \n3163  [[Fresh Tomato Salsa (Mild), Roasted Chili Cor...     $8.49   \n4084  [[Fresh Tomato Salsa (Mild), Roasted Chili Cor...     $8.49   \n1694  [[Fresh Tomato Salsa (Mild), Roasted Chili Cor...     $8.49   \n2756  [[Tomatillo-Green Chili Salsa (Medium), Roaste...     $8.49   \n4201  [Fresh Tomato Salsa, [Fajita Vegetables, Black...    $11.25   \n1884  [Fresh Tomato Salsa, [Fajita Vegetables, Rice,...    $11.25   \n455   [Fresh Tomato Salsa, [Fajita Vegetables, Rice,...    $11.25   \n3223  [Tomatillo Red Chili Salsa, [Fajita Vegetables...    $11.25   \n2223      [Roasted Chili Corn Salsa, Fajita Vegetables]     $8.75   \n2269  [Fresh Tomato Salsa, [Fajita Vegetables, Rice,...     $8.75   \n4541  [Tomatillo Green Chili Salsa, [Fajita Vegetabl...     $8.75   \n3293  [Fresh Tomato Salsa, [Rice, Black Beans, Chees...     $8.75   \n186   [Fresh Tomato Salsa, [Fajita Vegetables, Rice,...    $11.25   \n960   [Fresh Tomato Salsa, [Fajita Vegetables, Lettu...     $8.75   \n1316  [Fresh Tomato Salsa, [Fajita Vegetables, Rice,...     $8.75   \n2156  [Tomatillo Red Chili Salsa, [Fajita Vegetables...    $11.25   \n4261  [Fresh Tomato Salsa, [Fajita Vegetables, Rice,...    $11.25   \n295   [Fresh Tomato Salsa, [Fajita Vegetables, Lettu...    $11.25   \n4573  [Fresh Tomato Salsa, [Fajita Vegetables, Pinto...     $8.75   \n2683  [Roasted Chili Corn Salsa, [Fajita Vegetables,...     $8.75   \n496   [Fresh Tomato Salsa, [Rice, Lettuce, Guacamole...    $11.25   \n4109  [Tomatillo Red Chili Salsa, [Fajita Vegetables...    $11.25   \n738   [Tomatillo Red Chili Salsa, [Fajita Vegetables...    $11.25   \n3889  [Fresh Tomato Salsa (Mild), [Black Beans, Rice...    $16.98   \n2384  [Roasted Chili Corn Salsa, [Fajita Vegetables,...     $8.75   \n781   [Fresh Tomato Salsa, [Black Beans, Cheese, Sou...     $8.75   \n2851  [Roasted Chili Corn Salsa (Medium), [Black Bea...     $8.49   \n1699  [Fresh Tomato Salsa, [Fajita Vegetables, Rice,...    $11.25   \n1395  [Fresh Tomato Salsa (Mild), [Pinto Beans, Rice...     $8.49   \n\n[4622 rows x 5 columns]\n"
     ]
    }
   ],
   "source": [
    "print(chipo.sort_values(by='item_name'))"
   ]
  },
  {
   "cell_type": "markdown",
   "metadata": {},
   "source": [
    "Сколько было заказано самого дорогого предмета?"
   ]
  },
  {
   "cell_type": "code",
   "execution_count": 106,
   "metadata": {
    "collapsed": true
   },
   "outputs": [
    {
     "name": "stdout",
     "output_type": "stream",
     "text": [
      "44.25\n1\n"
     ]
    }
   ],
   "source": [
    "chipo_without_currency = chipo\n",
    "chipo_without_currency['item_price'] = chipo_without_currency['item_price'].replace('[\\$,]', '', regex=True).astype(float)\n",
    "max_value = chipo_without_currency.loc[chipo_without_currency['item_price'].idxmax()]['item_price']\n",
    "print(len(chipo_without_currency[chipo_without_currency['item_price'].apply(lambda x: x == max_value)]))"
   ]
  },
  {
   "cell_type": "markdown",
   "metadata": {},
   "source": [
    "Сколько раз был заказан предмет \"Veggie Salad Bowl\"?"
   ]
  },
  {
   "cell_type": "code",
   "execution_count": 107,
   "metadata": {
    "collapsed": true
   },
   "outputs": [
    {
     "name": "stdout",
     "output_type": "stream",
     "text": [
      "18\n"
     ]
    }
   ],
   "source": [
    "print(len(chipo[chipo['item_name'].apply(lambda x: x == 'Veggie Salad Bowl')]))"
   ]
  },
  {
   "cell_type": "markdown",
   "metadata": {},
   "source": [
    "Сколько раз люди заказали более чем 1 предмет \"Canned Soda\"?"
   ]
  },
  {
   "cell_type": "code",
   "execution_count": 116,
   "metadata": {
    "collapsed": true
   },
   "outputs": [
    {
     "name": "stdout",
     "output_type": "stream",
     "text": [
      "20\n"
     ]
    }
   ],
   "source": [
    "print(len(chipo.loc[lambda x: (x['item_name'] == 'Canned Soda') & (x['quantity'] > 1)]))"
   ]
  },
  {
   "cell_type": "code",
   "execution_count": null,
   "metadata": {},
   "outputs": [],
   "source": []
  }
 ],
 "metadata": {
  "kernelspec": {
   "display_name": "Python 2",
   "language": "python",
   "name": "python2"
  },
  "language_info": {
   "codemirror_mode": {
    "name": "ipython",
    "version": 2
   },
   "file_extension": ".py",
   "mimetype": "text/x-python",
   "name": "python",
   "nbconvert_exporter": "python",
   "pygments_lexer": "ipython2",
   "version": "2.7.6"
  }
 },
 "nbformat": 4,
 "nbformat_minor": 2
}
