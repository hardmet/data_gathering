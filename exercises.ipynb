{
 "cells": [
  {
   "cell_type": "markdown",
   "metadata": {
    "deletable": true,
    "editable": true
   },
   "source": [
    "## Numpy"
   ]
  },
  {
   "cell_type": "markdown",
   "metadata": {
    "deletable": true,
    "editable": true
   },
   "source": [
    "Импортировать NumPy под именем np"
   ]
  },
  {
   "cell_type": "code",
   "execution_count": null,
   "metadata": {
    "collapsed": true,
    "deletable": true,
    "editable": true
   },
   "outputs": [],
   "source": [
    "import numpy as np"
   ]
  },
  {
   "cell_type": "markdown",
   "metadata": {
    "deletable": true,
    "editable": true
   },
   "source": [
    "Создать вектор (одномерный массив) размера 10, заполненный нулями"
   ]
  },
  {
   "cell_type": "code",
   "execution_count": 5,
   "metadata": {
    "collapsed": true,
    "deletable": true,
    "editable": true
   },
   "outputs": [
    {
     "name": "stdout",
     "output_type": "stream",
     "text": [
      "[[ 0.  0.  0.  0.  0.  0.  0.  0.  0.  0.]]\n"
     ]
    }
   ],
   "source": [
    "a = np.zeros((1, 10))\n",
    "print(a)"
   ]
  },
  {
   "cell_type": "markdown",
   "metadata": {
    "deletable": true,
    "editable": true
   },
   "source": [
    "Создать вектор размера 10, заполненный единицами"
   ]
  },
  {
   "cell_type": "code",
   "execution_count": 6,
   "metadata": {
    "collapsed": true,
    "deletable": true,
    "editable": true
   },
   "outputs": [
    {
     "name": "stdout",
     "output_type": "stream",
     "text": [
      "[[ 1.  1.  1.  1.  1.  1.  1.  1.  1.  1.]]\n"
     ]
    }
   ],
   "source": [
    "a = np.ones((1, 10))\n",
    "print(a)"
   ]
  },
  {
   "cell_type": "markdown",
   "metadata": {
    "deletable": true,
    "editable": true
   },
   "source": [
    "Создать вектор размера 10, заполненный числом 2.5"
   ]
  },
  {
   "cell_type": "code",
   "execution_count": 7,
   "metadata": {
    "collapsed": true,
    "deletable": true,
    "editable": true
   },
   "outputs": [
    {
     "name": "stdout",
     "output_type": "stream",
     "text": [
      "[[ 2.5  2.5  2.5  2.5  2.5  2.5  2.5  2.5  2.5  2.5]]\n"
     ]
    }
   ],
   "source": [
    "a = np.full((1, 10), 2.5, dtype=float)\n",
    "print(a)"
   ]
  },
  {
   "cell_type": "markdown",
   "metadata": {
    "deletable": true,
    "editable": true
   },
   "source": [
    "Создать вектор размера 10, заполненный нулями, но пятый элемент равен 1"
   ]
  },
  {
   "cell_type": "code",
   "execution_count": 3,
   "metadata": {
    "collapsed": true,
    "deletable": true,
    "editable": true
   },
   "outputs": [
    {
     "name": "stdout",
     "output_type": "stream",
     "text": [
      "[[ 0.  0.  0.  0.  0.  1.  0.  0.  0.  0.]]\n"
     ]
    }
   ],
   "source": [
    "a = np.zeros((1, 10))\n",
    "a[0][5] = 1\n",
    "print(a)"
   ]
  },
  {
   "cell_type": "markdown",
   "metadata": {
    "deletable": true,
    "editable": true
   },
   "source": [
    "Развернуть вектор (первый становится последним)"
   ]
  },
  {
   "cell_type": "code",
   "execution_count": 9,
   "metadata": {
    "collapsed": true,
    "deletable": true,
    "editable": true
   },
   "outputs": [
    {
     "name": "stdout",
     "output_type": "stream",
     "text": [
      "[0 1 2 3 4 5 6 7 8 9]\n[9 8 7 6 5 4 3 2 1 0]\n"
     ]
    }
   ],
   "source": [
    "a = np.arange(10)\n",
    "print(a)\n",
    "print(a[::-1])"
   ]
  },
  {
   "cell_type": "markdown",
   "metadata": {
    "deletable": true,
    "editable": true
   },
   "source": [
    "Создать матрицу (двумерный массив) 3x3 со значениями от 0 до 8"
   ]
  },
  {
   "cell_type": "code",
   "execution_count": 10,
   "metadata": {
    "collapsed": true,
    "deletable": true,
    "editable": true
   },
   "outputs": [
    {
     "name": "stdout",
     "output_type": "stream",
     "text": [
      "[[0 1 2]\n [3 4 5]\n [6 7 8]]\n"
     ]
    }
   ],
   "source": [
    "a = np.arange(9).reshape(3, 3)\n",
    "print(a)"
   ]
  },
  {
   "cell_type": "markdown",
   "metadata": {
    "deletable": true,
    "editable": true
   },
   "source": [
    "Найти индексы ненулевых элементов в [1,2,0,0,4,0]"
   ]
  },
  {
   "cell_type": "code",
   "execution_count": 12,
   "metadata": {
    "collapsed": true,
    "deletable": true,
    "editable": true
   },
   "outputs": [
    {
     "name": "stdout",
     "output_type": "stream",
     "text": [
      "(array([0, 1, 4]),)\n"
     ]
    }
   ],
   "source": [
    "a = np.array([1, 2, 0, 0, 4, 0])\n",
    "print(np.nonzero(a))"
   ]
  },
  {
   "cell_type": "markdown",
   "metadata": {
    "deletable": true,
    "editable": true
   },
   "source": [
    "Создать 3x3 единичную матрицу"
   ]
  },
  {
   "cell_type": "code",
   "execution_count": 13,
   "metadata": {
    "collapsed": false,
    "deletable": true,
    "editable": true
   },
   "outputs": [
    {
     "name": "stdout",
     "output_type": "stream",
     "text": [
      "[[1. 0. 0.]\n [0. 1. 0.]\n [0. 0. 1.]]\n"
     ]
    }
   ],
   "source": [
    "a = np.eye(3)\n",
    "print(a)"
   ]
  },
  {
   "cell_type": "markdown",
   "metadata": {
    "deletable": true,
    "editable": true
   },
   "source": [
    "Создать массив 3x3x3 со случайными значениями"
   ]
  },
  {
   "cell_type": "code",
   "execution_count": 14,
   "metadata": {
    "collapsed": true,
    "deletable": true,
    "editable": true
   },
   "outputs": [
    {
     "name": "stdout",
     "output_type": "stream",
     "text": [
      "[[[ 0.87283602  0.42109275  0.57433051]\n  [ 0.73853605  0.56288155  0.07565394]\n  [ 0.58947189  0.51900692  0.84270836]]\n\n [[ 0.27617211  0.48963498  0.30295271]\n  [ 0.14551452  0.75968599  0.91789124]\n  [ 0.95127445  0.7831737   0.57760502]]\n\n [[ 0.48068125  0.89426391  0.41636285]\n  [ 0.05425686  0.02636305  0.4902538 ]\n  [ 0.0832907   0.02563887  0.29572431]]]\n"
     ]
    }
   ],
   "source": [
    "a = np.random.rand(3, 3, 3)\n",
    "print(a)"
   ]
  },
  {
   "cell_type": "markdown",
   "metadata": {
    "deletable": true,
    "editable": true
   },
   "source": [
    "Создать случайный вектор размера 30 и найти среднее значение всех элементов"
   ]
  },
  {
   "cell_type": "code",
   "execution_count": 16,
   "metadata": {
    "collapsed": true,
    "deletable": true,
    "editable": true
   },
   "outputs": [
    {
     "name": "stdout",
     "output_type": "stream",
     "text": [
      "[[ 0.30552721  0.48914847  0.92773522  0.91369698  0.67295923  0.24436749\n   0.45823916  0.44979867  0.0254749   0.16432509  0.75156683  0.18673971\n   0.25417961  0.18223197  0.87156909  0.8014803   0.19988774  0.41935008\n   0.30848916  0.4804537   0.99370635  0.93484371  0.62498995  0.45545434\n   0.38752885  0.84539647  0.60611554  0.73355852  0.47728382  0.2395661 ]]\n0.513522142444\n"
     ]
    }
   ],
   "source": [
    "a = np.random.rand(1,30)\n",
    "print(a)\n",
    "print(np.average(a))"
   ]
  },
  {
   "cell_type": "markdown",
   "metadata": {
    "deletable": true,
    "editable": true
   },
   "source": [
    "Перемножить матрицы 5x3 и 3x2"
   ]
  },
  {
   "cell_type": "code",
   "execution_count": 18,
   "metadata": {
    "collapsed": true,
    "deletable": true,
    "editable": true
   },
   "outputs": [
    {
     "name": "stdout",
     "output_type": "stream",
     "text": [
      "[[ 0.89791474  0.96000798  0.33690812]\n [ 0.41233993  0.71709604  0.74611926]\n [ 0.65533603  0.72322381  0.56714113]\n [ 0.37544263  0.41609465  0.10360136]\n [ 0.13038859  0.45430697  0.0918051 ]]\n[[ 0.13286862  0.54183146]\n [ 0.8610713   0.00722856]\n [ 0.08621172  0.82052985]]\n[[ 0.97498544  0.76990111]\n [ 0.73658208  0.84081544]\n [ 0.75871507  0.82566577]\n [ 0.41710336  0.29144241]\n [ 0.41642992  0.14926146]]\n"
     ]
    }
   ],
   "source": [
    "a = np.random.rand(5,3)\n",
    "b = np.random.rand(3,2)\n",
    "print(a)\n",
    "print(b)\n",
    "print(np.dot(a, b))"
   ]
  },
  {
   "cell_type": "markdown",
   "metadata": {
    "deletable": true,
    "editable": true
   },
   "source": [
    "Создать вектор размера 10 со значениями от 0 до 1, не включая ни то, ни другое"
   ]
  },
  {
   "cell_type": "code",
   "execution_count": 19,
   "metadata": {
    "collapsed": false,
    "deletable": true,
    "editable": true
   },
   "outputs": [
    {
     "name": "stdout",
     "output_type": "stream",
     "text": [
      "[0.09090909 0.18181818 0.27272727 0.36363636 0.45454545 0.54545455\n 0.63636364 0.72727273 0.81818182 0.90909091]\n"
     ]
    }
   ],
   "source": [
    "a = np.linspace(0,1,12)[1:-1]\n",
    "print(a)"
   ]
  },
  {
   "cell_type": "markdown",
   "metadata": {
    "deletable": true,
    "editable": true
   },
   "source": [
    "Заменить максимальный элемент на ноль"
   ]
  },
  {
   "cell_type": "code",
   "execution_count": 21,
   "metadata": {
    "collapsed": true,
    "deletable": true,
    "editable": true
   },
   "outputs": [
    {
     "name": "stdout",
     "output_type": "stream",
     "text": [
      "[1 2 0 7 3 4]\n"
     ]
    }
   ],
   "source": [
    "a = np.array([1, 2, 12, 7, 3, 4])\n",
    "a[np.argmax(a)] = 0\n",
    "print(a)"
   ]
  },
  {
   "cell_type": "markdown",
   "metadata": {
    "deletable": true,
    "editable": true
   },
   "source": [
    "Преобразовать массив из float в int"
   ]
  },
  {
   "cell_type": "code",
   "execution_count": 24,
   "metadata": {
    "collapsed": true,
    "deletable": true,
    "editable": true
   },
   "outputs": [
    {
     "name": "stdout",
     "output_type": "stream",
     "text": [
      "[ 1  2 12  7  3  4]\n"
     ]
    }
   ],
   "source": [
    "a = np.array([1.2, 2.3, 12.8, 7.0, 3.2, 4.2])\n",
    "a = a.astype(int)\n",
    "print(a)"
   ]
  },
  {
   "cell_type": "markdown",
   "metadata": {
    "deletable": true,
    "editable": true
   },
   "source": [
    "Дан массив (10,2) координат, найти расстояние от каждой точки до каждой"
   ]
  },
  {
   "cell_type": "code",
   "execution_count": 32,
   "metadata": {
    "collapsed": true,
    "deletable": true,
    "editable": true
   },
   "outputs": [
    {
     "name": "stdout",
     "output_type": "stream",
     "text": [
      "[[ 0.          0.21119052  0.64088537  0.25480442  0.44012379  0.63905829\n   0.69384228  0.40683502  0.84457107  0.17317558]\n [ 0.21119052  0.          0.52261699  0.3442686   0.5494622   0.6751576\n   0.53616859  0.39093566  0.65746858  0.10192988]\n [ 0.64088537  0.52261699  0.          0.50332689  0.58507765  0.46816726\n   0.15104475  0.30926397  0.36328973  0.48054464]\n [ 0.25480442  0.3442686   0.50332689  0.          0.20543078  0.38538524\n   0.60473328  0.20355016  0.79745206  0.24340865]\n [ 0.44012379  0.5494622   0.58507765  0.20543078  0.          0.26743595\n   0.71540291  0.28776454  0.92408378  0.4481457 ]\n [ 0.63905829  0.6751576   0.46816726  0.38538524  0.26743595  0.\n   0.61827338  0.2924441   0.83145606  0.57825138]\n [ 0.69384228  0.53616859  0.15104475  0.60473328  0.71540291  0.61827338\n   0.          0.42957318  0.21426003  0.5223278 ]\n [ 0.40683502  0.39093566  0.30926397  0.20355016  0.28776454  0.2924441\n   0.42957318  0.          0.63650769  0.30102628]\n [ 0.84457107  0.65746858  0.36328973  0.79745206  0.92408378  0.83145606\n   0.21426003  0.63650769  0.          0.67207631]\n [ 0.17317558  0.10192988  0.48054464  0.24340865  0.4481457   0.57825138\n   0.5223278   0.30102628  0.67207631  0.        ]]\n"
     ]
    }
   ],
   "source": [
    "from scipy.spatial import distance\n",
    "a = np.random.rand(10,2)\n",
    "d = distance.cdist(a, a, 'euclidean')\n",
    "print(d)"
   ]
  },
  {
   "cell_type": "markdown",
   "metadata": {
    "deletable": true,
    "editable": true
   },
   "source": [
    "Случайно расположить p элементов в 2D массив"
   ]
  },
  {
   "cell_type": "code",
   "execution_count": 35,
   "metadata": {
    "collapsed": true,
    "deletable": true,
    "editable": true
   },
   "outputs": [
    {
     "name": "stdout",
     "output_type": "stream",
     "text": [
      "[[ 0.  0.  0.  0.  0.  0.  0.  0.  0.  0.]\n [ 0.  0.  0.  0.  0.  0.  0.  0.  0.  0.]\n [ 0.  0.  0.  0.  0.  0.  0.  0.  0.  0.]\n [ 0.  0.  0.  0.  0.  0.  0.  0.  0.  0.]\n [ 0.  0.  0.  0.  0.  0.  0.  0.  0.  0.]\n [ 0.  0.  0.  0.  0.  0.  0.  0.  0.  0.]\n [ 0.  0.  0.  0.  0.  0.  0.  0.  0.  0.]\n [ 0.  0.  0.  0.  0.  0.  0.  0.  0.  0.]\n [ 0.  0.  0.  0.  0.  0.  0.  0.  0.  0.]\n [ 0.  0.  0.  0.  0.  0.  0.  0.  0.  0.]]\n[[ 0.  0.  0.  0.  0.  0.  0.  0.  0.  0.]\n [ 0.  0.  0.  0.  0.  0.  0.  0.  0.  0.]\n [ 0.  0.  0.  0.  0.  0.  0.  0.  0.  1.]\n [ 0.  0.  0.  0.  0.  0.  0.  0.  0.  0.]\n [ 0.  0.  0.  0.  0.  0.  0.  0.  0.  0.]\n [ 0.  0.  0.  0.  0.  0.  0.  0.  0.  0.]\n [ 0.  1.  0.  0.  0.  0.  0.  0.  0.  0.]\n [ 0.  0.  0.  0.  0.  0.  0.  0.  0.  0.]\n [ 0.  0.  0.  0.  0.  0.  0.  1.  0.  0.]\n [ 0.  0.  0.  0.  0.  0.  0.  0.  0.  0.]]\n"
     ]
    }
   ],
   "source": [
    "n = 10\n",
    "p = 3\n",
    "a = np.zeros((n,n))\n",
    "print(a)\n",
    "np.put(a, np.random.choice(range(n*n), p, replace=False), 1)\n",
    "print(a)"
   ]
  },
  {
   "cell_type": "markdown",
   "metadata": {
    "deletable": true,
    "editable": true
   },
   "source": [
    "Дан вектор [1, 2, 3, 4, 5], построить новый вектор с тремя нулями между каждым значением"
   ]
  },
  {
   "cell_type": "code",
   "execution_count": 48,
   "metadata": {
    "collapsed": true,
    "deletable": true,
    "editable": true
   },
   "outputs": [
    {
     "name": "stdout",
     "output_type": "stream",
     "text": [
      "[1 2 3 4 5]\n[ 1.  0.  0.  0.  2.  0.  0.  0.  3.  0.  0.  0.  4.  0.  0.  0.  5.]\n"
     ]
    }
   ],
   "source": [
    "a = np.arange(1, 6)\n",
    "print(a)\n",
    "zeros = 3\n",
    "result = np.zeros(len(a) + (len(a) - 1) * zeros)\n",
    "result[::zeros + 1] = a\n",
    "print(result)"
   ]
  },
  {
   "cell_type": "markdown",
   "metadata": {
    "deletable": true,
    "editable": true
   },
   "source": [
    "Найти наиболее частое значение в массиве"
   ]
  },
  {
   "cell_type": "code",
   "execution_count": 52,
   "metadata": {
    "collapsed": true,
    "deletable": true,
    "editable": true
   },
   "outputs": [
    {
     "name": "stdout",
     "output_type": "stream",
     "text": [
      "1\n"
     ]
    }
   ],
   "source": [
    "a = np.array([1,2,3,1,2,1,1,1,3,2,2,1])\n",
    "counts = np.bincount(a)\n",
    "print(np.argmax(counts))"
   ]
  },
  {
   "cell_type": "markdown",
   "metadata": {
    "deletable": true,
    "editable": true
   },
   "source": [
    "Найти n наибольших значений в массиве"
   ]
  },
  {
   "cell_type": "code",
   "execution_count": 64,
   "metadata": {
    "collapsed": true,
    "deletable": true,
    "editable": true
   },
   "outputs": [
    {
     "name": "stdout",
     "output_type": "stream",
     "text": [
      "[8 7 4 9 0]\n"
     ]
    }
   ],
   "source": [
    "n = 5\n",
    "a = np.array([4,2,3,1,4,1,1,4,3,4,2,1])\n",
    "print(np.argpartition(a, -n)[-n:])"
   ]
  },
  {
   "cell_type": "markdown",
   "metadata": {
    "deletable": true,
    "editable": true
   },
   "source": [
    "## Pandas - изучение данных"
   ]
  },
  {
   "cell_type": "markdown",
   "metadata": {
    "collapsed": true,
    "deletable": true,
    "editable": true
   },
   "source": [
    "Перейти по ссылке [Kaggle]( https://www.kaggle.com/openfoodfacts/world-food-facts)"
   ]
  },
  {
   "cell_type": "markdown",
   "metadata": {
    "collapsed": true,
    "deletable": true,
    "editable": true
   },
   "source": [
    "Скачать датасет на свой компьютер и распаковать"
   ]
  },
  {
   "cell_type": "markdown",
   "metadata": {
    "collapsed": true,
    "deletable": true,
    "editable": true
   },
   "source": [
    "Считать csv файл в датафрейм food"
   ]
  },
  {
   "cell_type": "code",
   "execution_count": 18,
   "metadata": {
    "collapsed": true,
    "deletable": true,
    "editable": true
   },
   "outputs": [],
   "source": [
    "import pandas\n",
    "food = pandas.read_csv('en.openfoodfacts.org.products.tsv', error_bad_lines=False, dtype='unicode', delimiter='\\t')"
   ]
  },
  {
   "cell_type": "markdown",
   "metadata": {
    "collapsed": true,
    "deletable": true,
    "editable": true
   },
   "source": [
    "Посмотреть первые 5 записей"
   ]
  },
  {
   "cell_type": "code",
   "execution_count": 19,
   "metadata": {
    "collapsed": false,
    "deletable": true,
    "editable": true
   },
   "outputs": [
    {
     "name": "stdout",
     "output_type": "stream",
     "text": [
      "            code                                                url  \\\n0  0000000003087  http://world-en.openfoodfacts.org/product/0000...   \n1  0000000004530  http://world-en.openfoodfacts.org/product/0000...   \n2  0000000004559  http://world-en.openfoodfacts.org/product/0000...   \n3  0000000016087  http://world-en.openfoodfacts.org/product/0000...   \n4  0000000016094  http://world-en.openfoodfacts.org/product/0000...   \n\n                      creator   created_t      created_datetime  \\\n0  openfoodfacts-contributors  1474103866  2016-09-17T09:17:46Z   \n1             usda-ndb-import  1489069957  2017-03-09T14:32:37Z   \n2             usda-ndb-import  1489069957  2017-03-09T14:32:37Z   \n3             usda-ndb-import  1489055731  2017-03-09T10:35:31Z   \n4             usda-ndb-import  1489055653  2017-03-09T10:34:13Z   \n\n  last_modified_t last_modified_datetime                    product_name  \\\n0      1474103893   2016-09-17T09:18:13Z              Farine de blé noir   \n1      1489069957   2017-03-09T14:32:37Z  Banana Chips Sweetened (Whole)   \n2      1489069957   2017-03-09T14:32:37Z                         Peanuts   \n3      1489055731   2017-03-09T10:35:31Z          Organic Salted Nut Mix   \n4      1489055653   2017-03-09T10:34:13Z                 Organic Polenta   \n\n  generic_name quantity         ...         fruits-vegetables-nuts_100g  \\\n0          NaN      1kg         ...                                 NaN   \n1          NaN      NaN         ...                                 NaN   \n2          NaN      NaN         ...                                 NaN   \n3          NaN      NaN         ...                                 NaN   \n4          NaN      NaN         ...                                 NaN   \n\n  fruits-vegetables-nuts-estimate_100g collagen-meat-protein-ratio_100g  \\\n0                                  NaN                              NaN   \n1                                  NaN                              NaN   \n2                                  NaN                              NaN   \n3                                  NaN                              NaN   \n4                                  NaN                              NaN   \n\n  cocoa_100g chlorophyl_100g carbon-footprint_100g nutrition-score-fr_100g  \\\n0        NaN             NaN                   NaN                     NaN   \n1        NaN             NaN                   NaN                      14   \n2        NaN             NaN                   NaN                       0   \n3        NaN             NaN                   NaN                      12   \n4        NaN             NaN                   NaN                     NaN   \n\n  nutrition-score-uk_100g glycemic-index_100g water-hardness_100g  \n0                     NaN                 NaN                 NaN  \n1                      14                 NaN                 NaN  \n2                       0                 NaN                 NaN  \n3                      12                 NaN                 NaN  \n4                     NaN                 NaN                 NaN  \n\n[5 rows x 163 columns]\n"
     ]
    }
   ],
   "source": [
    "print(food.head())"
   ]
  },
  {
   "cell_type": "markdown",
   "metadata": {
    "collapsed": true,
    "deletable": true,
    "editable": true
   },
   "source": [
    "Сколько наблюдений в наборе данных?\n"
   ]
  },
  {
   "cell_type": "code",
   "execution_count": 21,
   "metadata": {
    "collapsed": true,
    "deletable": true,
    "editable": true
   },
   "outputs": [
    {
     "name": "stdout",
     "output_type": "stream",
     "text": [
      "356027\n"
     ]
    }
   ],
   "source": [
    "print(len(food))"
   ]
  },
  {
   "cell_type": "markdown",
   "metadata": {
    "collapsed": true,
    "deletable": true,
    "editable": true
   },
   "source": [
    "Сколько столбцов в наборе данных?"
   ]
  },
  {
   "cell_type": "code",
   "execution_count": 22,
   "metadata": {
    "collapsed": true,
    "deletable": true,
    "editable": true
   },
   "outputs": [
    {
     "name": "stdout",
     "output_type": "stream",
     "text": [
      "163\n"
     ]
    }
   ],
   "source": [
    "print(len(food.columns))"
   ]
  },
  {
   "cell_type": "markdown",
   "metadata": {
    "collapsed": true,
    "deletable": true,
    "editable": true
   },
   "source": [
    "Напечатайте все названия столбцов"
   ]
  },
  {
   "cell_type": "code",
   "execution_count": 23,
   "metadata": {
    "collapsed": false,
    "deletable": true,
    "editable": true
   },
   "outputs": [
    {
     "name": "stdout",
     "output_type": "stream",
     "text": [
      "['code' 'url' 'creator' 'created_t' 'created_datetime' 'last_modified_t'\n 'last_modified_datetime' 'product_name' 'generic_name' 'quantity'\n 'packaging' 'packaging_tags' 'brands' 'brands_tags' 'categories'\n 'categories_tags' 'categories_en' 'origins' 'origins_tags'\n 'manufacturing_places' 'manufacturing_places_tags' 'labels' 'labels_tags'\n 'labels_en' 'emb_codes' 'emb_codes_tags' 'first_packaging_code_geo'\n 'cities' 'cities_tags' 'purchase_places' 'stores' 'countries'\n 'countries_tags' 'countries_en' 'ingredients_text' 'allergens'\n 'allergens_en' 'traces' 'traces_tags' 'traces_en' 'serving_size'\n 'no_nutriments' 'additives_n' 'additives' 'additives_tags' 'additives_en'\n 'ingredients_from_palm_oil_n' 'ingredients_from_palm_oil'\n 'ingredients_from_palm_oil_tags'\n 'ingredients_that_may_be_from_palm_oil_n'\n 'ingredients_that_may_be_from_palm_oil'\n 'ingredients_that_may_be_from_palm_oil_tags' 'nutrition_grade_uk'\n 'nutrition_grade_fr' 'pnns_groups_1' 'pnns_groups_2' 'states'\n 'states_tags' 'states_en' 'main_category' 'main_category_en' 'image_url'\n 'image_small_url' 'energy_100g' 'energy-from-fat_100g' 'fat_100g'\n 'saturated-fat_100g' '-butyric-acid_100g' '-caproic-acid_100g'\n '-caprylic-acid_100g' '-capric-acid_100g' '-lauric-acid_100g'\n '-myristic-acid_100g' '-palmitic-acid_100g' '-stearic-acid_100g'\n '-arachidic-acid_100g' '-behenic-acid_100g' '-lignoceric-acid_100g'\n '-cerotic-acid_100g' '-montanic-acid_100g' '-melissic-acid_100g'\n 'monounsaturated-fat_100g' 'polyunsaturated-fat_100g' 'omega-3-fat_100g'\n '-alpha-linolenic-acid_100g' '-eicosapentaenoic-acid_100g'\n '-docosahexaenoic-acid_100g' 'omega-6-fat_100g' '-linoleic-acid_100g'\n '-arachidonic-acid_100g' '-gamma-linolenic-acid_100g'\n '-dihomo-gamma-linolenic-acid_100g' 'omega-9-fat_100g' '-oleic-acid_100g'\n '-elaidic-acid_100g' '-gondoic-acid_100g' '-mead-acid_100g'\n '-erucic-acid_100g' '-nervonic-acid_100g' 'trans-fat_100g'\n 'cholesterol_100g' 'carbohydrates_100g' 'sugars_100g' '-sucrose_100g'\n '-glucose_100g' '-fructose_100g' '-lactose_100g' '-maltose_100g'\n '-maltodextrins_100g' 'starch_100g' 'polyols_100g' 'fiber_100g'\n 'proteins_100g' 'casein_100g' 'serum-proteins_100g' 'nucleotides_100g'\n 'salt_100g' 'sodium_100g' 'alcohol_100g' 'vitamin-a_100g'\n 'beta-carotene_100g' 'vitamin-d_100g' 'vitamin-e_100g' 'vitamin-k_100g'\n 'vitamin-c_100g' 'vitamin-b1_100g' 'vitamin-b2_100g' 'vitamin-pp_100g'\n 'vitamin-b6_100g' 'vitamin-b9_100g' 'folates_100g' 'vitamin-b12_100g'\n 'biotin_100g' 'pantothenic-acid_100g' 'silica_100g' 'bicarbonate_100g'\n 'potassium_100g' 'chloride_100g' 'calcium_100g' 'phosphorus_100g'\n 'iron_100g' 'magnesium_100g' 'zinc_100g' 'copper_100g' 'manganese_100g'\n 'fluoride_100g' 'selenium_100g' 'chromium_100g' 'molybdenum_100g'\n 'iodine_100g' 'caffeine_100g' 'taurine_100g' 'ph_100g'\n 'fruits-vegetables-nuts_100g' 'fruits-vegetables-nuts-estimate_100g'\n 'collagen-meat-protein-ratio_100g' 'cocoa_100g' 'chlorophyl_100g'\n 'carbon-footprint_100g' 'nutrition-score-fr_100g'\n 'nutrition-score-uk_100g' 'glycemic-index_100g' 'water-hardness_100g']\n"
     ]
    }
   ],
   "source": [
    "print(food.columns.values)"
   ]
  },
  {
   "cell_type": "markdown",
   "metadata": {
    "collapsed": true,
    "deletable": true,
    "editable": true
   },
   "source": [
    "Какое название у 105 столбца?"
   ]
  },
  {
   "cell_type": "code",
   "execution_count": 31,
   "metadata": {
    "collapsed": false
   },
   "outputs": [
    {
     "name": "stdout",
     "output_type": "stream",
     "text": [
      "-fructose_100g\n"
     ]
    }
   ],
   "source": [
    "food_value = food.columns[104]\n",
    "print(food_value)"
   ]
  },
  {
   "cell_type": "markdown",
   "metadata": {},
   "source": [
    "Какой тип наблюдений в 105 столбце?"
   ]
  },
  {
   "cell_type": "code",
   "execution_count": 30,
   "metadata": {
    "collapsed": true
   },
   "outputs": [
    {
     "name": "stdout",
     "output_type": "stream",
     "text": [
      "<class 'str'>\n"
     ]
    }
   ],
   "source": [
    "print(type(food_value))"
   ]
  },
  {
   "cell_type": "markdown",
   "metadata": {},
   "source": [
    "Как проиндексирован набор данных?"
   ]
  },
  {
   "cell_type": "code",
   "execution_count": 32,
   "metadata": {
    "collapsed": true
   },
   "outputs": [
    {
     "name": "stdout",
     "output_type": "stream",
     "text": [
      "RangeIndex(start=0, stop=356027, step=1)\n"
     ]
    }
   ],
   "source": [
    "print(food.index)"
   ]
  },
  {
   "cell_type": "markdown",
   "metadata": {},
   "source": [
    "Каково значение имени продукта в 19-м наблюдении?"
   ]
  },
  {
   "cell_type": "code",
   "execution_count": 33,
   "metadata": {
    "collapsed": true
   },
   "outputs": [
    {
     "name": "stdout",
     "output_type": "stream",
     "text": [
      "Organic Oat Groats\n"
     ]
    }
   ],
   "source": [
    "print(food.iloc[18]['product_name'])"
   ]
  },
  {
   "cell_type": "markdown",
   "metadata": {},
   "source": [
    "## Pandas - фильтрация данных"
   ]
  },
  {
   "cell_type": "markdown",
   "metadata": {},
   "source": [
    "Считать данные по  [адресу](https://raw.githubusercontent.com/justmarkham/DAT8/master/data/chipotle.tsv). \n",
    "Присвоить переменной chipo"
   ]
  },
  {
   "cell_type": "code",
   "execution_count": 91,
   "metadata": {
    "collapsed": false
   },
   "outputs": [],
   "source": [
    "chipo = pandas.read_csv('chipotle.tsv', error_bad_lines=False, sep='\\t')"
   ]
  },
  {
   "cell_type": "markdown",
   "metadata": {},
   "source": [
    "Как много продуктов стоят более чем $10.00?"
   ]
  },
  {
   "cell_type": "code",
   "execution_count": 92,
   "metadata": {
    "collapsed": false
   },
   "outputs": [
    {
     "name": "stdout",
     "output_type": "stream",
     "text": [
      "1130\n"
     ]
    }
   ],
   "source": [
    "\n",
    "item_price_without_currency = chipo['item_price']\n",
    "item_price_without_currency = item_price_without_currency.replace('[\\$,]', '', regex=True).astype(float)\n",
    "print(len(item_price_without_currency[item_price_without_currency.apply(lambda x: x > 10.00)]))"
   ]
  },
  {
   "cell_type": "markdown",
   "metadata": {},
   "source": [
    "Какова цена каждого предмета? Напечатать столбцы item_name и item_price"
   ]
  },
  {
   "cell_type": "code",
   "execution_count": 81,
   "metadata": {
    "collapsed": true
   },
   "outputs": [
    {
     "name": "stdout",
     "output_type": "stream",
     "text": [
      "                                  item_name  item_price\n0              Chips and Fresh Tomato Salsa        2.39\n1                                      Izze        3.39\n2                          Nantucket Nectar        3.39\n3     Chips and Tomatillo-Green Chili Salsa        2.39\n4                              Chicken Bowl       16.98\n5                              Chicken Bowl       10.98\n6                             Side of Chips        1.69\n7                             Steak Burrito       11.75\n8                          Steak Soft Tacos        9.25\n9                             Steak Burrito        9.25\n10                      Chips and Guacamole        4.45\n11                     Chicken Crispy Tacos        8.75\n12                       Chicken Soft Tacos        8.75\n13                             Chicken Bowl       11.25\n14                      Chips and Guacamole        4.45\n15    Chips and Tomatillo-Green Chili Salsa        2.39\n16                          Chicken Burrito        8.49\n17                          Chicken Burrito        8.49\n18                              Canned Soda        2.18\n19                             Chicken Bowl        8.75\n20                      Chips and Guacamole        4.45\n21                         Barbacoa Burrito        8.99\n22                         Nantucket Nectar        3.39\n23                          Chicken Burrito       10.98\n24                                     Izze        3.39\n25             Chips and Fresh Tomato Salsa        2.39\n26                             Chicken Bowl        8.49\n27                         Carnitas Burrito        8.99\n28                              Canned Soda        1.09\n29                          Chicken Burrito        8.49\n...                                     ...         ...\n4592                       Barbacoa Burrito       11.75\n4593                          Carnitas Bowl       11.75\n4594                          Barbacoa Bowl       11.75\n4595                           Chicken Bowl        8.75\n4596                    Chips and Guacamole        4.45\n4597                      Canned Soft Drink        1.25\n4598                          Bottled Water        1.50\n4599                           Chicken Bowl        8.75\n4600                    Chips and Guacamole        4.45\n4601                      Canned Soft Drink        1.25\n4602                       Barbacoa Burrito        9.25\n4603                       Barbacoa Burrito        9.25\n4604                           Chicken Bowl        8.75\n4605                    Chips and Guacamole        4.45\n4606                      Canned Soft Drink        1.25\n4607                          Steak Burrito       11.75\n4608                         Veggie Burrito       11.25\n4609                      Canned Soft Drink        1.25\n4610                          Steak Burrito       11.75\n4611                         Veggie Burrito       11.25\n4612                          Carnitas Bowl        9.25\n4613                                  Chips        2.15\n4614                          Bottled Water        1.50\n4615                     Chicken Soft Tacos        8.75\n4616                    Chips and Guacamole        4.45\n4617                          Steak Burrito       11.75\n4618                          Steak Burrito       11.75\n4619                     Chicken Salad Bowl       11.25\n4620                     Chicken Salad Bowl        8.75\n4621                     Chicken Salad Bowl        8.75\n\n[4622 rows x 2 columns]\n"
     ]
    }
   ],
   "source": [
    "print(chipo[['item_name','item_price']])"
   ]
  },
  {
   "cell_type": "markdown",
   "metadata": {},
   "source": [
    "Отсортировать по имени предмета"
   ]
  },
  {
   "cell_type": "code",
   "execution_count": 93,
   "metadata": {
    "collapsed": true
   },
   "outputs": [
    {
     "name": "stdout",
     "output_type": "stream",
     "text": [
      "      order_id  quantity          item_name  \\\n3389      1360         2  6 Pack Soft Drink   \n341        148         1  6 Pack Soft Drink   \n1849       749         1  6 Pack Soft Drink   \n1860       754         1  6 Pack Soft Drink   \n2713      1076         1  6 Pack Soft Drink   \n3422      1373         1  6 Pack Soft Drink   \n553        230         1  6 Pack Soft Drink   \n1916       774         1  6 Pack Soft Drink   \n1922       776         1  6 Pack Soft Drink   \n1937       784         1  6 Pack Soft Drink   \n3836      1537         1  6 Pack Soft Drink   \n298        129         1  6 Pack Soft Drink   \n1976       798         1  6 Pack Soft Drink   \n1167       481         1  6 Pack Soft Drink   \n3875      1554         1  6 Pack Soft Drink   \n1124       465         1  6 Pack Soft Drink   \n3886      1558         1  6 Pack Soft Drink   \n2108       849         1  6 Pack Soft Drink   \n3010      1196         1  6 Pack Soft Drink   \n4535      1803         1  6 Pack Soft Drink   \n4169      1664         1  6 Pack Soft Drink   \n4174      1666         1  6 Pack Soft Drink   \n4527      1800         1  6 Pack Soft Drink   \n4522      1798         1  6 Pack Soft Drink   \n3806      1525         1  6 Pack Soft Drink   \n2389       949         1  6 Pack Soft Drink   \n3132      1248         1  6 Pack Soft Drink   \n3141      1253         1  6 Pack Soft Drink   \n639        264         1  6 Pack Soft Drink   \n1026       422         1  6 Pack Soft Drink   \n...        ...       ...                ...   \n2996      1192         1       Veggie Salad   \n3163      1263         1       Veggie Salad   \n4084      1635         1       Veggie Salad   \n1694       686         1       Veggie Salad   \n2756      1094         1       Veggie Salad   \n4201      1677         1  Veggie Salad Bowl   \n1884       760         1  Veggie Salad Bowl   \n455        195         1  Veggie Salad Bowl   \n3223      1289         1  Veggie Salad Bowl   \n2223       896         1  Veggie Salad Bowl   \n2269       913         1  Veggie Salad Bowl   \n4541      1805         1  Veggie Salad Bowl   \n3293      1321         1  Veggie Salad Bowl   \n186         83         1  Veggie Salad Bowl   \n960        394         1  Veggie Salad Bowl   \n1316       536         1  Veggie Salad Bowl   \n2156       869         1  Veggie Salad Bowl   \n4261      1700         1  Veggie Salad Bowl   \n295        128         1  Veggie Salad Bowl   \n4573      1818         1  Veggie Salad Bowl   \n2683      1066         1  Veggie Salad Bowl   \n496        207         1  Veggie Salad Bowl   \n4109      1646         1  Veggie Salad Bowl   \n738        304         1  Veggie Soft Tacos   \n3889      1559         2  Veggie Soft Tacos   \n2384       948         1  Veggie Soft Tacos   \n781        322         1  Veggie Soft Tacos   \n2851      1132         1  Veggie Soft Tacos   \n1699       688         1  Veggie Soft Tacos   \n1395       567         1  Veggie Soft Tacos   \n\n                                     choice_description item_price  \n3389                                        [Diet Coke]    $12.98   \n341                                         [Diet Coke]     $6.49   \n1849                                             [Coke]     $6.49   \n1860                                        [Diet Coke]     $6.49   \n2713                                             [Coke]     $6.49   \n3422                                             [Coke]     $6.49   \n553                                         [Diet Coke]     $6.49   \n1916                                        [Diet Coke]     $6.49   \n1922                                             [Coke]     $6.49   \n1937                                        [Diet Coke]     $6.49   \n3836                                             [Coke]     $6.49   \n298                                            [Sprite]     $6.49   \n1976                                        [Diet Coke]     $6.49   \n1167                                             [Coke]     $6.49   \n3875                                        [Diet Coke]     $6.49   \n1124                                             [Coke]     $6.49   \n3886                                        [Diet Coke]     $6.49   \n2108                                             [Coke]     $6.49   \n3010                                        [Diet Coke]     $6.49   \n4535                                         [Lemonade]     $6.49   \n4169                                        [Diet Coke]     $6.49   \n4174                                             [Coke]     $6.49   \n4527                                        [Diet Coke]     $6.49   \n4522                                        [Diet Coke]     $6.49   \n3806                                           [Sprite]     $6.49   \n2389                                             [Coke]     $6.49   \n3132                                        [Diet Coke]     $6.49   \n3141                                         [Lemonade]     $6.49   \n639                                         [Diet Coke]     $6.49   \n1026                                           [Sprite]     $6.49   \n...                                                 ...        ...  \n2996  [Roasted Chili Corn Salsa (Medium), [Black Bea...     $8.49   \n3163  [[Fresh Tomato Salsa (Mild), Roasted Chili Cor...     $8.49   \n4084  [[Fresh Tomato Salsa (Mild), Roasted Chili Cor...     $8.49   \n1694  [[Fresh Tomato Salsa (Mild), Roasted Chili Cor...     $8.49   \n2756  [[Tomatillo-Green Chili Salsa (Medium), Roaste...     $8.49   \n4201  [Fresh Tomato Salsa, [Fajita Vegetables, Black...    $11.25   \n1884  [Fresh Tomato Salsa, [Fajita Vegetables, Rice,...    $11.25   \n455   [Fresh Tomato Salsa, [Fajita Vegetables, Rice,...    $11.25   \n3223  [Tomatillo Red Chili Salsa, [Fajita Vegetables...    $11.25   \n2223      [Roasted Chili Corn Salsa, Fajita Vegetables]     $8.75   \n2269  [Fresh Tomato Salsa, [Fajita Vegetables, Rice,...     $8.75   \n4541  [Tomatillo Green Chili Salsa, [Fajita Vegetabl...     $8.75   \n3293  [Fresh Tomato Salsa, [Rice, Black Beans, Chees...     $8.75   \n186   [Fresh Tomato Salsa, [Fajita Vegetables, Rice,...    $11.25   \n960   [Fresh Tomato Salsa, [Fajita Vegetables, Lettu...     $8.75   \n1316  [Fresh Tomato Salsa, [Fajita Vegetables, Rice,...     $8.75   \n2156  [Tomatillo Red Chili Salsa, [Fajita Vegetables...    $11.25   \n4261  [Fresh Tomato Salsa, [Fajita Vegetables, Rice,...    $11.25   \n295   [Fresh Tomato Salsa, [Fajita Vegetables, Lettu...    $11.25   \n4573  [Fresh Tomato Salsa, [Fajita Vegetables, Pinto...     $8.75   \n2683  [Roasted Chili Corn Salsa, [Fajita Vegetables,...     $8.75   \n496   [Fresh Tomato Salsa, [Rice, Lettuce, Guacamole...    $11.25   \n4109  [Tomatillo Red Chili Salsa, [Fajita Vegetables...    $11.25   \n738   [Tomatillo Red Chili Salsa, [Fajita Vegetables...    $11.25   \n3889  [Fresh Tomato Salsa (Mild), [Black Beans, Rice...    $16.98   \n2384  [Roasted Chili Corn Salsa, [Fajita Vegetables,...     $8.75   \n781   [Fresh Tomato Salsa, [Black Beans, Cheese, Sou...     $8.75   \n2851  [Roasted Chili Corn Salsa (Medium), [Black Bea...     $8.49   \n1699  [Fresh Tomato Salsa, [Fajita Vegetables, Rice,...    $11.25   \n1395  [Fresh Tomato Salsa (Mild), [Pinto Beans, Rice...     $8.49   \n\n[4622 rows x 5 columns]\n"
     ]
    }
   ],
   "source": [
    "print(chipo.sort_values(by='item_name'))"
   ]
  },
  {
   "cell_type": "markdown",
   "metadata": {},
   "source": [
    "Сколько было заказано самого дорогого предмета?"
   ]
  },
  {
   "cell_type": "code",
   "execution_count": 106,
   "metadata": {
    "collapsed": true
   },
   "outputs": [
    {
     "name": "stdout",
     "output_type": "stream",
     "text": [
      "44.25\n1\n"
     ]
    }
   ],
   "source": [
    "chipo_without_currency = chipo\n",
    "chipo_without_currency['item_price'] = chipo_without_currency['item_price'].replace('[\\$,]', '', regex=True).astype(float)\n",
    "max_value = chipo_without_currency.loc[chipo_without_currency['item_price'].idxmax()]['item_price']\n",
    "print(len(chipo_without_currency[chipo_without_currency['item_price'].apply(lambda x: x == max_value)]))"
   ]
  },
  {
   "cell_type": "markdown",
   "metadata": {},
   "source": [
    "Сколько раз был заказан предмет \"Veggie Salad Bowl\"?"
   ]
  },
  {
   "cell_type": "code",
   "execution_count": 107,
   "metadata": {
    "collapsed": true
   },
   "outputs": [
    {
     "name": "stdout",
     "output_type": "stream",
     "text": [
      "18\n"
     ]
    }
   ],
   "source": [
    "print(len(chipo[chipo['item_name'].apply(lambda x: x == 'Veggie Salad Bowl')]))"
   ]
  },
  {
   "cell_type": "markdown",
   "metadata": {},
   "source": [
    "Сколько раз люди заказали более чем 1 предмет \"Canned Soda\"?"
   ]
  },
  {
   "cell_type": "code",
   "execution_count": 116,
   "metadata": {
    "collapsed": true
   },
   "outputs": [
    {
     "name": "stdout",
     "output_type": "stream",
     "text": [
      "20\n"
     ]
    }
   ],
   "source": [
    "print(len(chipo.loc[lambda x: (x['item_name'] == 'Canned Soda') & (x['quantity'] > 1)]))"
   ]
  },
  {
   "cell_type": "code",
   "execution_count": null,
   "metadata": {},
   "outputs": [],
   "source": []
  }
 ],
 "metadata": {
  "kernelspec": {
   "display_name": "Python 2",
   "language": "python",
   "name": "python2"
  },
  "language_info": {
   "codemirror_mode": {
    "name": "ipython",
    "version": 2
   },
   "file_extension": ".py",
   "mimetype": "text/x-python",
   "name": "python",
   "nbconvert_exporter": "python",
   "pygments_lexer": "ipython2",
   "version": "2.7.6"
  }
 },
 "nbformat": 4,
 "nbformat_minor": 2
}
